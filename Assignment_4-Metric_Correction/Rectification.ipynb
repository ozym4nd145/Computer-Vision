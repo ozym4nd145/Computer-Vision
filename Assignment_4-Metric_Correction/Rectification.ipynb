{
 "cells": [
  {
   "cell_type": "code",
   "execution_count": 1,
   "metadata": {
    "collapsed": true
   },
   "outputs": [],
   "source": [
    "import cv2\n",
    "import numpy as np"
   ]
  },
  {
   "cell_type": "code",
   "execution_count": 3,
   "metadata": {
    "collapsed": true
   },
   "outputs": [],
   "source": [
    "def show_images(imgList):\n",
    "    while True:\n",
    "        for (name,img) in imgList:\n",
    "            cv2.imshow(name,img)\n",
    "        pressed_key = cv2.waitKey(0)\n",
    "        if pressed_key==27:\n",
    "            break\n",
    "    cv2.destroyAllWindows()"
   ]
  },
  {
   "cell_type": "code",
   "execution_count": 73,
   "metadata": {
    "collapsed": true
   },
   "outputs": [],
   "source": [
    "def inhomogenize(p):\n",
    "    return p/p[2]"
   ]
  },
  {
   "cell_type": "code",
   "execution_count": 77,
   "metadata": {
    "collapsed": true
   },
   "outputs": [],
   "source": [
    "def get_affine(p1,p2,p3,p4):\n",
    "    ## p1 p2 p3 p4 in anticlockwise order of square\n",
    "    p1,p2,p3,p4 = np.concatenate(([p1,p2,p3,p4],np.ones([4,1],dtype=np.float32)),axis=1)\n",
    "    \n",
    "    l1 = inhomogenize(np.cross(p1,p2))\n",
    "    l2 = inhomogenize(np.cross(p3,p4))\n",
    "    l3 = inhomogenize(np.cross(p2,p3))\n",
    "    l4 = inhomogenize(np.cross(p1,p4))\n",
    "    \n",
    "    a = inhomogenize(np.cross(l1,l2))\n",
    "    b = inhomogenize(np.cross(l3,l4))\n",
    "    \n",
    "    linf = inhomogenize(np.cross(a,b))\n",
    "    \n",
    "    return np.array([[1,0,0],[0,1,0],[linf[0],linf[1],1]],dtype=np.float32)"
   ]
  },
  {
   "cell_type": "code",
   "execution_count": 87,
   "metadata": {
    "collapsed": true
   },
   "outputs": [],
   "source": [
    "def get_metric(p1,p2,p3,p4):\n",
    "    ## p1 p2 p3 p4 in anticlockwise order of square\n",
    "    img_points = np.array([p1,p2,p3,p4],dtype=np.float32)\n",
    "    size = (np.linalg.norm(p1-p2)\n",
    "            +np.linalg.norm(p2-p3)\n",
    "            +np.linalg.norm(p3-p4)\n",
    "            +np.linalg.norm(p4-p1))/4\n",
    "    cube_points = np.array([[p1[0],p1[1]],\n",
    "                            [p1[0],p1[1]+size],\n",
    "                            [p1[0]+size,p1[1]+size],\n",
    "                            [p1[0]+size,p1[1]]],dtype=np.float32)\n",
    "    return cv2.getPerspectiveTransform(points,cube_points)"
   ]
  },
  {
   "cell_type": "markdown",
   "metadata": {},
   "source": [
    "## Input image"
   ]
  },
  {
   "cell_type": "code",
   "execution_count": 2,
   "metadata": {
    "collapsed": true
   },
   "outputs": [],
   "source": [
    "IMG = cv2.imread(\"./images/persp_tile.jpg\")"
   ]
  },
  {
   "cell_type": "code",
   "execution_count": 27,
   "metadata": {
    "collapsed": true
   },
   "outputs": [],
   "source": [
    "show_images([(\"Img\",IMG)])"
   ]
  },
  {
   "cell_type": "code",
   "execution_count": 95,
   "metadata": {
    "collapsed": true
   },
   "outputs": [],
   "source": [
    "# points = np.array([[1458,194],[1965,145],[1880,754],[1400,687]],dtype=np.float32)\n",
    "points = np.array([[194,1458],[145,1965],[754,1880],[687,1400]],dtype=np.float32)"
   ]
  },
  {
   "cell_type": "code",
   "execution_count": 88,
   "metadata": {
    "collapsed": true
   },
   "outputs": [],
   "source": [
    "H_met = get_metric(*points)"
   ]
  },
  {
   "cell_type": "code",
   "execution_count": 89,
   "metadata": {
    "collapsed": true
   },
   "outputs": [],
   "source": [
    "H_aff = get_affine(*points)"
   ]
  },
  {
   "cell_type": "code",
   "execution_count": 90,
   "metadata": {
    "collapsed": true
   },
   "outputs": [],
   "source": [
    "met_img = cv2.warpPerspective(IMG,H_met,(IMG.shape[1],IMG.shape[0]))\n",
    "aff_img = cv2.warpPerspective(IMG,H_aff,(IMG.shape[1],IMG.shape[0]))"
   ]
  },
  {
   "cell_type": "code",
   "execution_count": 96,
   "metadata": {},
   "outputs": [],
   "source": [
    "p1,p2,p3,p4 = points"
   ]
  },
  {
   "cell_type": "code",
   "execution_count": 102,
   "metadata": {},
   "outputs": [
    {
     "data": {
      "text/plain": [
       "526.32977294921875"
      ]
     },
     "execution_count": 102,
     "metadata": {},
     "output_type": "execute_result"
    }
   ],
   "source": []
  },
  {
   "cell_type": "code",
   "execution_count": null,
   "metadata": {
    "collapsed": true
   },
   "outputs": [],
   "source": []
  },
  {
   "cell_type": "code",
   "execution_count": null,
   "metadata": {
    "collapsed": true
   },
   "outputs": [],
   "source": [
    "a"
   ]
  },
  {
   "cell_type": "code",
   "execution_count": 91,
   "metadata": {
    "collapsed": true
   },
   "outputs": [],
   "source": [
    "show_images([(\"Orig\",IMG),(\"Metric\",met_img),(\"Affine\",aff_img)])"
   ]
  }
 ],
 "metadata": {
  "kernelspec": {
   "display_name": "Python 3",
   "language": "python",
   "name": "python3"
  },
  "language_info": {
   "codemirror_mode": {
    "name": "ipython",
    "version": 3
   },
   "file_extension": ".py",
   "mimetype": "text/x-python",
   "name": "python",
   "nbconvert_exporter": "python",
   "pygments_lexer": "ipython3",
   "version": "3.4.3"
  }
 },
 "nbformat": 4,
 "nbformat_minor": 2
}
