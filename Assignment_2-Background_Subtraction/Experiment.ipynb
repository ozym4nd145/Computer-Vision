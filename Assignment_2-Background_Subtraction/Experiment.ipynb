{
 "cells": [
  {
   "cell_type": "code",
   "execution_count": null,
   "metadata": {
    "collapsed": true
   },
   "outputs": [],
   "source": [
    "# %matplotlib inline\n",
    "# import matplotlib.pyplot as plt\n",
    "# import matplotlib.image as mpimg"
   ]
  },
  {
   "cell_type": "code",
   "execution_count": 85,
   "metadata": {},
   "outputs": [],
   "source": [
    "%load_ext line_profiler"
   ]
  },
  {
   "cell_type": "code",
   "execution_count": 1,
   "metadata": {
    "collapsed": true
   },
   "outputs": [],
   "source": [
    "import numpy as np\n",
    "import cv2"
   ]
  },
  {
   "cell_type": "code",
   "execution_count": 100,
   "metadata": {},
   "outputs": [],
   "source": [
    "class MOG(object):\n",
    "  def __init__(self,frame, K=5,T=0.25,lr=0.2):\n",
    "    self.rows = frame.shape[0]\n",
    "    self.cols = frame.shape[1]\n",
    "    self.N = frame.shape[2]\n",
    "    self.K = K\n",
    "    self.T = T\n",
    "    self.dist_mult = 2.5\n",
    "    self.lr = lr\n",
    "    self.params = [[[{\"mean\":np.zeros(frame.shape[2]),\"std_dev\": 0.25,\"weight\": (1.0/K)} for a in range(self.K)]  for b in range(self.cols)] for c in range(self.rows)]\n",
    "    self.HIGH_VAR=2\n",
    "    self.denom_const = np.power(2*np.pi,(self.N)/2)\n",
    "\n",
    "  def mahalanaobis_dist_sq(self,pixel,mean,std_dev):\n",
    "    arg = np.sum((pixel-mean)**2)/std_dev\n",
    "    return arg\n",
    "  def prob_pixel(self,sq_dist,std_dev):\n",
    "    num = np.exp(-0.5*sq_dist)\n",
    "    denom = self.denom_const*(np.sqrt(self.N)*std_dev)\n",
    "    return num/denom\n",
    "\n",
    "  def process_pixel(self,row,col,pixel):\n",
    "    #sort in decreasing order of weight/std_dev\n",
    "    sorted(self.params[row][col],key = lambda k: (-1*(k['weight']/k['std_dev'])))\n",
    "    params = self.params[row][col]\n",
    "\n",
    "    last_bg_idx = 0\n",
    "    cum_weight = 0\n",
    "    for param in params:\n",
    "      cum_weight += param[\"weight\"]\n",
    "      if(cum_weight > self.T):\n",
    "        break\n",
    "      last_bg_idx += 1\n",
    "    \n",
    "    # Estimation Stage\n",
    "    sq_dist = np.array([self.mahalanaobis_dist_sq(pixel,param[\"mean\"],param[\"std_dev\"]) for param in self.params[row][col]])\n",
    "    prob = [self.prob_pixel(sq_dist[i],params[i][\"std_dev\"]) for i in range(len(params))]\n",
    "\n",
    "    match_idx = len(params)\n",
    "    for i in range(len(params)):\n",
    "      if(np.sqrt(sq_dist[i]) < self.dist_mult*params[i][\"std_dev\"]):\n",
    "        match_idx = i\n",
    "        break\n",
    "\n",
    "    #Updation Stage\n",
    "    if match_idx==len(params):\n",
    "      min_idx = np.argmin(prob)\n",
    "      params[min_idx][\"mean\"] = pixel\n",
    "      params[min_idx][\"std_dev\"] = self.HIGH_VAR\n",
    "    else:\n",
    "      for (idx,param) in enumerate(params):\n",
    "        if idx==match_idx:\n",
    "          param[\"weight\"] = (1-self.lr)*param[\"weight\"] + self.lr\n",
    "          rho = self.lr * (prob[match_idx])\n",
    "          param[\"mean\"] = (1-rho)*param[\"mean\"] + rho*pixel\n",
    "          variance = (1-rho)*(param[\"std_dev\"]**2) + rho*(np.sum((pixel-param[\"mean\"])**2))\n",
    "          param[\"std_dev\"] = np.sqrt(variance)\n",
    "        else:\n",
    "          param[\"weight\"] = (1-self.lr)*param[\"weight\"]\n",
    "\n",
    "    return (match_idx <= last_bg_idx)\n",
    "\n",
    "  def apply(self,frame):\n",
    "    result = np.zeros(frame.shape[:2],dtype=np.uint8)\n",
    "    N = frame.shape[2]\n",
    "    for row in range(frame.shape[0]):\n",
    "      for col in range(frame.shape[1]):\n",
    "        result[row][col] = (0 if self.process_pixel(row,col,frame[row][col]) else 255)\n",
    "    return result"
   ]
  },
  {
   "cell_type": "code",
   "execution_count": 101,
   "metadata": {
    "collapsed": true
   },
   "outputs": [],
   "source": [
    "THRESHOLD = 30\n",
    "CONFIDENCE = 0.1"
   ]
  },
  {
   "cell_type": "code",
   "execution_count": 94,
   "metadata": {
    "collapsed": true
   },
   "outputs": [],
   "source": [
    "cap = cv2.VideoCapture('./videos/vtest.avi')"
   ]
  },
  {
   "cell_type": "code",
   "execution_count": 93,
   "metadata": {
    "collapsed": true
   },
   "outputs": [],
   "source": [
    "#cap = cv2.VideoCapture(0)"
   ]
  },
  {
   "cell_type": "code",
   "execution_count": 91,
   "metadata": {
    "collapsed": true
   },
   "outputs": [],
   "source": [
    "#fgbg = cv2.createBackgroundSubtractorMOG2()"
   ]
  },
  {
   "cell_type": "code",
   "execution_count": 95,
   "metadata": {},
   "outputs": [],
   "source": [
    "ret, frame = cap.read()\n",
    "background = np.zeros(frame.shape)\n",
    "frame = cv2.resize(frame, (100, 50))"
   ]
  },
  {
   "cell_type": "code",
   "execution_count": 96,
   "metadata": {},
   "outputs": [],
   "source": [
    "fgbg = MOG(frame)"
   ]
  },
  {
   "cell_type": "code",
   "execution_count": 99,
   "metadata": {},
   "outputs": [],
   "source": [
    "lprun -f MOG.mahalanaobis_dist_sq fgbg.process_pixel(0,0,frame[0][0])"
   ]
  },
  {
   "cell_type": "code",
   "execution_count": 82,
   "metadata": {},
   "outputs": [],
   "source": [
    "while(1):\n",
    "    ret, frame = cap.read()\n",
    "    frame = cv2.resize(frame, (100, 50)) \n",
    "    if (not ret):\n",
    "        break\n",
    "    fgmask = fgbg.apply(frame)\n",
    "    cv2.imshow('frame',frame)\n",
    "    cv2.imshow('output',fgmask)\n",
    "    \n",
    "#     bgmask = (fgmask<THRESHOLD)[:,:,None]\n",
    "#     fgmask = (fgmask>(128 - THRESHOLD))[:,:,None]\n",
    "#     new_bg = frame*bgmask\n",
    "#     new_fg = frame*fgmask\n",
    "#     bg_prob_mask = np.ones(frame.shape) - (bgmask*CONFIDENCE)\n",
    "#     background = np.asarray((bg_prob_mask*background + (1-bg_prob_mask)*new_bg),np.uint8)\n",
    "#     foreground = np.asarray(fgmask*new_fg,np.uint8)\n",
    "#     cv2.imshow('background',background)\n",
    "#     cv2.imshow('foreground',foreground)\n",
    "    \n",
    "    k = cv2.waitKey(30) & 0xff\n",
    "    if k == 27:\n",
    "        break\n",
    "cap.release()\n",
    "cv2.destroyAllWindows()"
   ]
  },
  {
   "cell_type": "code",
   "execution_count": 11,
   "metadata": {},
   "outputs": [],
   "source": [
    "params = fgbg.params[30][50]"
   ]
  },
  {
   "cell_type": "code",
   "execution_count": 12,
   "metadata": {},
   "outputs": [
    {
     "data": {
      "text/plain": [
       "[{'mean': array([  57.,  116.,  109.]),\n",
       "  'std_dev': 0.17408500218453049,\n",
       "  'weight': 1.0}]"
      ]
     },
     "execution_count": 12,
     "metadata": {},
     "output_type": "execute_result"
    }
   ],
   "source": [
    "params"
   ]
  },
  {
   "cell_type": "code",
   "execution_count": null,
   "metadata": {},
   "outputs": [],
   "source": [
    "[p[\"weight\"] for p in params]"
   ]
  },
  {
   "cell_type": "code",
   "execution_count": null,
   "metadata": {},
   "outputs": [],
   "source": [
    "x = np.zeros(frame.shape[:2],dtype=np.uint8)"
   ]
  },
  {
   "cell_type": "code",
   "execution_count": null,
   "metadata": {},
   "outputs": [],
   "source": [
    "x"
   ]
  },
  {
   "cell_type": "code",
   "execution_count": null,
   "metadata": {},
   "outputs": [],
   "source": [
    "x[0][0]"
   ]
  },
  {
   "cell_type": "code",
   "execution_count": null,
   "metadata": {
    "collapsed": true
   },
   "outputs": [],
   "source": [
    "x = np.array([3,4,5])"
   ]
  },
  {
   "cell_type": "code",
   "execution_count": null,
   "metadata": {
    "collapsed": true
   },
   "outputs": [],
   "source": [
    "y = np.array([1,0,3])"
   ]
  },
  {
   "cell_type": "code",
   "execution_count": null,
   "metadata": {},
   "outputs": [],
   "source": [
    "z = np.multiply(x,y)"
   ]
  },
  {
   "cell_type": "code",
   "execution_count": null,
   "metadata": {},
   "outputs": [],
   "source": [
    "np.argmax(z)"
   ]
  },
  {
   "cell_type": "code",
   "execution_count": null,
   "metadata": {},
   "outputs": [],
   "source": [
    "z"
   ]
  },
  {
   "cell_type": "code",
   "execution_count": null,
   "metadata": {},
   "outputs": [],
   "source": [
    "np.argmax(x>6)"
   ]
  },
  {
   "cell_type": "code",
   "execution_count": null,
   "metadata": {
    "collapsed": true
   },
   "outputs": [],
   "source": []
  }
 ],
 "metadata": {
  "kernelspec": {
   "display_name": "Python 3",
   "language": "python",
   "name": "python3"
  },
  "language_info": {
   "codemirror_mode": {
    "name": "ipython",
    "version": 3
   },
   "file_extension": ".py",
   "mimetype": "text/x-python",
   "name": "python",
   "nbconvert_exporter": "python",
   "pygments_lexer": "ipython3",
   "version": "3.4.3"
  }
 },
 "nbformat": 4,
 "nbformat_minor": 2
}
