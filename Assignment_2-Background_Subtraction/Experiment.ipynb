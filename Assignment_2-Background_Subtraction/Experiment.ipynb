{
 "cells": [
  {
   "cell_type": "code",
   "execution_count": null,
   "metadata": {
    "collapsed": true
   },
   "outputs": [],
   "source": [
    "# %matplotlib inline\n",
    "# import matplotlib.pyplot as plt\n",
    "# import matplotlib.image as mpimg"
   ]
  },
  {
   "cell_type": "code",
   "execution_count": 304,
   "metadata": {},
   "outputs": [
    {
     "name": "stdout",
     "output_type": "stream",
     "text": [
      "The line_profiler extension is already loaded. To reload it, use:\n",
      "  %reload_ext line_profiler\n"
     ]
    }
   ],
   "source": [
    "%load_ext line_profiler"
   ]
  },
  {
   "cell_type": "code",
   "execution_count": 305,
   "metadata": {
    "collapsed": true
   },
   "outputs": [],
   "source": [
    "import numpy as np\n",
    "import cv2"
   ]
  },
  {
   "cell_type": "code",
   "execution_count": 306,
   "metadata": {},
   "outputs": [],
   "source": [
    "class MOG(object):\n",
    "  def __init__(self,frame, K=3,T=0.3,lr=0.25):\n",
    "    self.rows = frame.shape[0]\n",
    "    self.cols = frame.shape[1]\n",
    "    self.N = frame.shape[2]\n",
    "    self.K = K\n",
    "    self.T = T\n",
    "    self.mean = np.zeros((self.rows,self.cols,K,self.N),dtype=np.float32)\n",
    "    self.std_dev = np.ones((self.rows,self.cols,K),dtype=np.float32)\n",
    "    self.weight = np.ones((self.rows,self.cols,K),dtype=np.float32)/K\n",
    "    self.dist_mult = 2.5\n",
    "    self.lr = lr\n",
    "    self.HIGH_VAR=10\n",
    "    self.denom_const = np.power(2*np.pi,(self.N)/2)\n",
    "\n",
    "  def apply(self,frame):\n",
    "    ## calculating mahalanaobis distance for each pixel\n",
    "    sort_weights = self.weight/self.std_dev\n",
    "    index_sort_weights = np.argsort(-sort_weights,axis=2)\n",
    "\n",
    "    sqdist_frames = (np.sum((np.expand_dims(frame,axis=2)-self.mean)**2,axis=3))/self.std_dev\n",
    "    prob_frames = np.exp((-0.5)*sqdist_frames)/(self.denom_const*(np.sqrt(self.N)*self.std_dev))  \n",
    "    dist_frames = np.sqrt(sqdist_frames)\n",
    "    admissible_frames = dist_frames < self.dist_mult*self.std_dev\n",
    "    \n",
    "    lin_indx = np.reshape(index_sort_weights,[-1])\n",
    "    row_indx = np.repeat(np.arange(self.rows),self.cols*self.K)\n",
    "    col_indx = np.tile(np.repeat(np.arange(self.cols),self.K),self.rows)\n",
    "    sorted_wgts = np.reshape(self.weight[row_indx,col_indx,lin_indx],(self.rows,self.cols,-1))\n",
    "    background_dist = np.cumsum(sorted_wgts,axis=2)<self.T\n",
    "    is_background = np.any(np.logical_and(background_dist,admissible_frames),axis=2)\n",
    "    result = (np.logical_not(is_background)*255).astype(np.uint8)\n",
    "    \n",
    "    modify_mask = np.any(admissible_frames,axis=2)\n",
    "    matched_gaussian = np.choose(np.argmax(admissible_frames,axis=2),index_sort_weights.transpose(2,0,1))\n",
    "    \n",
    "    self.weight -= (np.expand_dims(modify_mask,axis=2)*self.weight)*(self.lr)\n",
    "    row_indx = np.repeat(np.arange(self.rows),self.cols)\n",
    "    col_indx = np.tile((np.arange(self.cols)),self.rows)\n",
    "    lin_indx = np.reshape(matched_gaussian,[-1])\n",
    "    self.weight[row_indx,col_indx,lin_indx] = np.reshape(modify_mask,[-1])*self.lr\n",
    "    \n",
    "    rho = np.reshape(modify_mask,[-1])*self.lr*(prob_frames[row_indx,col_indx,lin_indx] )\n",
    "    self.mean[row_indx,col_indx,lin_indx,:] -= np.expand_dims(rho,axis=2)*self.mean[row_indx,col_indx,lin_indx,:]\n",
    "    self.mean[row_indx,col_indx,lin_indx,:] += np.expand_dims(rho,axis=2)*frame[row_indx,col_indx,:]\n",
    "    \n",
    "    prev_var = (self.std_dev[row_indx,col_indx,lin_indx]*np.reshape(modify_mask,[-1]))**2\n",
    "    add_term = rho*np.sum((frame[row_indx,col_indx,:]-self.mean[row_indx,col_indx,lin_indx,:])**2,axis=1)\n",
    "    new_var = (1-rho)*prev_var + add_term\n",
    "    self.std_dev[row_indx,col_indx,lin_indx] = np.sqrt(new_var)\n",
    "    \n",
    "    \n",
    "    ## Adding new gaussian\n",
    "    last_idx = index_sort_weights[:,:,-1]\n",
    "    lin_indx = np.reshape(last_idx,[-1])\n",
    "    updation_mask = np.logical_not(modify_mask)\n",
    "    new_mean_values = (self.mean - (np.expand_dims(frame,axis=2)))[row_indx,col_indx,lin_indx,:]\n",
    "    lin_mask = np.reshape(updation_mask,[-1])\n",
    "    self.mean[row_indx,col_indx,lin_indx,:] -= np.expand_dims(lin_mask,axis=3)*new_mean_values\n",
    "    self.std_dev[row_indx,col_indx,lin_indx] += lin_mask*self.HIGH_VAR ## CHECK THIS\n",
    "#     result = np.zeros(frame.shape[:2],dtype=np.uint8)\n",
    "#     for i in range(frame.shape[0]):\n",
    "#       for j in range(frame.shape[1]):\n",
    "#         indices = index_sort_weights[i][j]\n",
    "#         values = self.weight[indices,i,j]\n",
    "#         background_dist = np.cumsum(values)<self.T\n",
    "#         admissible = admissible_frames[i][j]\n",
    "#         is_background = np.logical_and(background_dist,admissible)\n",
    "#         idx = np.argmax(is_background)\n",
    "#         if (is_background[idx]):\n",
    "#           result[i][j] = 255\n",
    "\n",
    "#         if (not (np.any(admissible))):\n",
    "#           #ADD NEW GAUSSIAN\n",
    "#           idx = indices[-1]\n",
    "#           self.mean[idx][i][j] = frame[i][j]\n",
    "#           self.std_dev[idx][i][j] = self.HIGH_VAR\n",
    "#         else:\n",
    "#           rho = self.lr*(prob_frames[idx][i][j])\n",
    "\n",
    "#           self.mean[idx][i][j] *= (1-rho)\n",
    "#           self.mean[idx][i][j] += frame[i][j]*rho\n",
    "#           variance = (1-rho)*(self.std_dev[idx][i][j]**2) + rho*(np.sum((frame[i][j]-self.mean[idx][i][j])**2))\n",
    "#           self.std_dev[idx][i][j] = np.sqrt(variance)\n",
    "    return result\n",
    "\n"
   ]
  },
  {
   "cell_type": "code",
   "execution_count": 307,
   "metadata": {
    "collapsed": true
   },
   "outputs": [],
   "source": [
    "THRESHOLD = 30\n",
    "CONFIDENCE = 0.1"
   ]
  },
  {
   "cell_type": "code",
   "execution_count": 308,
   "metadata": {
    "collapsed": true
   },
   "outputs": [],
   "source": [
    "# cap = cv2.VideoCapture('./videos/vtest.avi')"
   ]
  },
  {
   "cell_type": "code",
   "execution_count": 314,
   "metadata": {
    "collapsed": true
   },
   "outputs": [],
   "source": [
    "cap = cv2.VideoCapture(0)"
   ]
  },
  {
   "cell_type": "code",
   "execution_count": 315,
   "metadata": {
    "collapsed": true
   },
   "outputs": [],
   "source": [
    "#fgbg = cv2.createBackgroundSubtractorMOG2()"
   ]
  },
  {
   "cell_type": "code",
   "execution_count": 316,
   "metadata": {},
   "outputs": [],
   "source": [
    "ret, frame = cap.read()\n",
    "background = np.zeros(frame.shape)\n",
    "# frame = cv2.resize(frame, (100, 50))"
   ]
  },
  {
   "cell_type": "code",
   "execution_count": 317,
   "metadata": {
    "collapsed": true
   },
   "outputs": [],
   "source": [
    "fgbg = MOG(frame)"
   ]
  },
  {
   "cell_type": "code",
   "execution_count": 318,
   "metadata": {},
   "outputs": [
    {
     "name": "stderr",
     "output_type": "stream",
     "text": [
      "/home/suyash1212/.local/lib/python3.4/site-packages/ipykernel_launcher.py:44: DeprecationWarning: Both axis > a.ndim and axis < -a.ndim - 1 are deprecated and will raise an AxisError in the future.\n",
      "/home/suyash1212/.local/lib/python3.4/site-packages/ipykernel_launcher.py:45: DeprecationWarning: Both axis > a.ndim and axis < -a.ndim - 1 are deprecated and will raise an AxisError in the future.\n",
      "/home/suyash1212/.local/lib/python3.4/site-packages/ipykernel_launcher.py:59: DeprecationWarning: Both axis > a.ndim and axis < -a.ndim - 1 are deprecated and will raise an AxisError in the future.\n",
      "/home/suyash1212/.local/lib/python3.4/site-packages/ipykernel_launcher.py:18: RuntimeWarning: invalid value encountered in true_divide\n",
      "/home/suyash1212/.local/lib/python3.4/site-packages/ipykernel_launcher.py:21: RuntimeWarning: divide by zero encountered in true_divide\n",
      "/home/suyash1212/.local/lib/python3.4/site-packages/ipykernel_launcher.py:22: RuntimeWarning: invalid value encountered in true_divide\n",
      "/home/suyash1212/.local/lib/python3.4/site-packages/ipykernel_launcher.py:24: RuntimeWarning: invalid value encountered in less\n",
      "/home/suyash1212/.local/lib/python3.4/site-packages/ipykernel_launcher.py:21: RuntimeWarning: invalid value encountered in true_divide\n"
     ]
    }
   ],
   "source": [
    "while(1):\n",
    "    ret, frame = cap.read()\n",
    "#     frame = cv2.resize(frame, (100, 50)) \n",
    "    if (not ret):\n",
    "        break\n",
    "    fgmask = fgbg.apply(frame)\n",
    "    cv2.imshow('frame',frame)\n",
    "    cv2.imshow('output',fgmask)\n",
    "    \n",
    "#     bgmask = (fgmask<THRESHOLD)[:,:,None]\n",
    "#     fgmask = (fgmask>(128 - THRESHOLD))[:,:,None]\n",
    "#     new_bg = frame*bgmask\n",
    "#     new_fg = frame*fgmask\n",
    "#     bg_prob_mask = np.ones(frame.shape) - (bgmask*CONFIDENCE)\n",
    "#     background = np.asarray((bg_prob_mask*background + (1-bg_prob_mask)*new_bg),np.uint8)\n",
    "#     foreground = np.asarray(fgmask*new_fg,np.uint8)\n",
    "#     cv2.imshow('background',background)\n",
    "#     cv2.imshow('foreground',foreground)\n",
    "    \n",
    "    k = cv2.waitKey(30) & 0xff\n",
    "    if k == 27:\n",
    "        break\n",
    "cap.release()\n",
    "cv2.destroyAllWindows()"
   ]
  },
  {
   "cell_type": "code",
   "execution_count": null,
   "metadata": {
    "collapsed": true
   },
   "outputs": [],
   "source": [
    "np."
   ]
  },
  {
   "cell_type": "code",
   "execution_count": null,
   "metadata": {
    "collapsed": true
   },
   "outputs": [],
   "source": [
    "params = fgbg.params[30][50]"
   ]
  },
  {
   "cell_type": "code",
   "execution_count": null,
   "metadata": {},
   "outputs": [],
   "source": [
    "params"
   ]
  },
  {
   "cell_type": "code",
   "execution_count": null,
   "metadata": {
    "collapsed": true
   },
   "outputs": [],
   "source": [
    "[p[\"weight\"] for p in params]"
   ]
  },
  {
   "cell_type": "code",
   "execution_count": null,
   "metadata": {
    "collapsed": true
   },
   "outputs": [],
   "source": [
    "x = np.zeros(frame.shape[:2],dtype=np.uint8)"
   ]
  },
  {
   "cell_type": "code",
   "execution_count": null,
   "metadata": {
    "collapsed": true
   },
   "outputs": [],
   "source": [
    "x"
   ]
  },
  {
   "cell_type": "code",
   "execution_count": null,
   "metadata": {
    "collapsed": true
   },
   "outputs": [],
   "source": [
    "x[0][0]"
   ]
  },
  {
   "cell_type": "code",
   "execution_count": null,
   "metadata": {
    "collapsed": true
   },
   "outputs": [],
   "source": [
    "x = np.array([3,4,5])"
   ]
  },
  {
   "cell_type": "code",
   "execution_count": null,
   "metadata": {
    "collapsed": true
   },
   "outputs": [],
   "source": [
    "y = np.array([1,0,3])"
   ]
  },
  {
   "cell_type": "code",
   "execution_count": null,
   "metadata": {
    "collapsed": true
   },
   "outputs": [],
   "source": [
    "z = np.multiply(x,y)"
   ]
  },
  {
   "cell_type": "code",
   "execution_count": null,
   "metadata": {
    "collapsed": true
   },
   "outputs": [],
   "source": [
    "np.argmax(z)"
   ]
  },
  {
   "cell_type": "code",
   "execution_count": null,
   "metadata": {
    "collapsed": true
   },
   "outputs": [],
   "source": [
    "z"
   ]
  },
  {
   "cell_type": "code",
   "execution_count": 83,
   "metadata": {},
   "outputs": [
    {
     "ename": "NameError",
     "evalue": "name 'x' is not defined",
     "output_type": "error",
     "traceback": [
      "\u001b[0;31m---------------------------------------------------------------------------\u001b[0m",
      "\u001b[0;31mNameError\u001b[0m                                 Traceback (most recent call last)",
      "\u001b[0;32m<ipython-input-83-d67477b05b8f>\u001b[0m in \u001b[0;36m<module>\u001b[0;34m()\u001b[0m\n\u001b[0;32m----> 1\u001b[0;31m \u001b[0mnp\u001b[0m\u001b[0;34m.\u001b[0m\u001b[0margmax\u001b[0m\u001b[0;34m(\u001b[0m\u001b[0mx\u001b[0m\u001b[0;34m>\u001b[0m\u001b[0;36m6\u001b[0m\u001b[0;34m)\u001b[0m\u001b[0;34m\u001b[0m\u001b[0m\n\u001b[0m",
      "\u001b[0;31mNameError\u001b[0m: name 'x' is not defined"
     ]
    }
   ],
   "source": [
    "np.argmax(x>6)"
   ]
  },
  {
   "cell_type": "code",
   "execution_count": null,
   "metadata": {
    "collapsed": true
   },
   "outputs": [],
   "source": [
    "\n",
    "\n",
    "\n",
    "\n",
    "\n",
    "\n",
    "o"
   ]
  },
  {
   "cell_type": "code",
   "execution_count": null,
   "metadata": {
    "collapsed": true
   },
   "outputs": [],
   "source": []
  },
  {
   "cell_type": "code",
   "execution_count": null,
   "metadata": {
    "collapsed": true
   },
   "outputs": [],
   "source": []
  },
  {
   "cell_type": "code",
   "execution_count": null,
   "metadata": {
    "collapsed": true
   },
   "outputs": [],
   "source": []
  },
  {
   "cell_type": "code",
   "execution_count": null,
   "metadata": {
    "collapsed": true
   },
   "outputs": [],
   "source": []
  },
  {
   "cell_type": "code",
   "execution_count": null,
   "metadata": {
    "collapsed": true
   },
   "outputs": [],
   "source": []
  },
  {
   "cell_type": "code",
   "execution_count": null,
   "metadata": {
    "collapsed": true
   },
   "outputs": [],
   "source": []
  },
  {
   "cell_type": "code",
   "execution_count": null,
   "metadata": {
    "collapsed": true
   },
   "outputs": [],
   "source": []
  },
  {
   "cell_type": "code",
   "execution_count": null,
   "metadata": {
    "collapsed": true
   },
   "outputs": [],
   "source": []
  },
  {
   "cell_type": "code",
   "execution_count": null,
   "metadata": {
    "collapsed": true
   },
   "outputs": [],
   "source": []
  },
  {
   "cell_type": "code",
   "execution_count": null,
   "metadata": {
    "collapsed": true
   },
   "outputs": [],
   "source": []
  },
  {
   "cell_type": "code",
   "execution_count": null,
   "metadata": {
    "collapsed": true
   },
   "outputs": [],
   "source": []
  },
  {
   "cell_type": "markdown",
   "metadata": {},
   "source": [
    "### TESTING"
   ]
  },
  {
   "cell_type": "code",
   "execution_count": 192,
   "metadata": {
    "collapsed": true
   },
   "outputs": [],
   "source": [
    "frame = np.reshape([i+8 for i in range(24)],(3,4,2))"
   ]
  },
  {
   "cell_type": "code",
   "execution_count": 193,
   "metadata": {
    "collapsed": true
   },
   "outputs": [],
   "source": [
    "fgbg = MOG(frame)"
   ]
  },
  {
   "cell_type": "code",
   "execution_count": 194,
   "metadata": {
    "collapsed": true
   },
   "outputs": [],
   "source": [
    "self = fgbg"
   ]
  },
  {
   "cell_type": "code",
   "execution_count": 226,
   "metadata": {},
   "outputs": [],
   "source": [
    "a1 = np.reshape([i+4 for i in range(24)],(3,4,2))\n",
    "a2 = np.reshape([i+6 for i in range(24)],(3,4,2))\n",
    "a3 = np.stack([a1,a2],axis=3)"
   ]
  },
  {
   "cell_type": "code",
   "execution_count": 227,
   "metadata": {},
   "outputs": [],
   "source": [
    "self.mean = a3"
   ]
  },
  {
   "cell_type": "code",
   "execution_count": 228,
   "metadata": {},
   "outputs": [],
   "source": [
    "self.std_dev = np.reshape([1.5]*24,(3,4,2))"
   ]
  },
  {
   "cell_type": "code",
   "execution_count": 229,
   "metadata": {},
   "outputs": [],
   "source": [
    "self.weight = np.reshape([0.3,0.7]*12,(3,4,2))"
   ]
  },
  {
   "cell_type": "code",
   "execution_count": 230,
   "metadata": {
    "collapsed": true
   },
   "outputs": [],
   "source": [
    "sort_weights = self.weight/self.std_dev"
   ]
  },
  {
   "cell_type": "code",
   "execution_count": 231,
   "metadata": {},
   "outputs": [],
   "source": [
    "index_sort_weights = np.argsort(-sort_weights,axis=2)"
   ]
  },
  {
   "cell_type": "code",
   "execution_count": 232,
   "metadata": {},
   "outputs": [],
   "source": [
    "sqdist_frames = np.sum((np.expand_dims(frame,axis=2)-self.mean)**2,axis=3)/self.std_dev"
   ]
  },
  {
   "cell_type": "code",
   "execution_count": 233,
   "metadata": {},
   "outputs": [],
   "source": [
    "dist_frames = np.sqrt(sqdist_frames)"
   ]
  },
  {
   "cell_type": "code",
   "execution_count": 234,
   "metadata": {},
   "outputs": [],
   "source": [
    "prob_frames = np.exp(-0.5*sqdist_frames)/(self.denom_const*(np.sqrt(self.N)*self.std_dev))"
   ]
  },
  {
   "cell_type": "code",
   "execution_count": 237,
   "metadata": {},
   "outputs": [],
   "source": [
    "admissible_frames = dist_frames < self.dist_mult*self.std_dev"
   ]
  },
  {
   "cell_type": "code",
   "execution_count": 239,
   "metadata": {},
   "outputs": [],
   "source": [
    "lin_indx = np.reshape(index_sort_weights,[-1])"
   ]
  },
  {
   "cell_type": "code",
   "execution_count": 241,
   "metadata": {},
   "outputs": [],
   "source": [
    "row_indx = np.repeat(np.arange(self.rows),self.cols*self.K)\n",
    "col_indx = np.tile(np.repeat(np.arange(self.cols),self.K),self.rows)"
   ]
  },
  {
   "cell_type": "code",
   "execution_count": 242,
   "metadata": {
    "collapsed": true
   },
   "outputs": [],
   "source": [
    "sorted_wgts = np.reshape(self.weight[row_indx,col_indx,lin_indx],(self.rows,self.cols,-1))"
   ]
  },
  {
   "cell_type": "code",
   "execution_count": 245,
   "metadata": {},
   "outputs": [
    {
     "data": {
      "text/plain": [
       "array([ 0.7,  0.3,  0.7,  0.3,  0.7,  0.3,  0.7,  0.3,  0.7,  0.3,  0.7,\n",
       "        0.3,  0.7,  0.3,  0.7,  0.3,  0.7,  0.3,  0.7,  0.3,  0.7,  0.3,\n",
       "        0.7,  0.3])"
      ]
     },
     "execution_count": 245,
     "metadata": {},
     "output_type": "execute_result"
    }
   ],
   "source": [
    "self.weight[row_indx,col_indx,lin_indx]"
   ]
  },
  {
   "cell_type": "code",
   "execution_count": 247,
   "metadata": {},
   "outputs": [
    {
     "data": {
      "text/plain": [
       "array([[[ 0.2       ,  0.46666667],\n",
       "        [ 0.2       ,  0.46666667],\n",
       "        [ 0.2       ,  0.46666667],\n",
       "        [ 0.2       ,  0.46666667]],\n",
       "\n",
       "       [[ 0.2       ,  0.46666667],\n",
       "        [ 0.2       ,  0.46666667],\n",
       "        [ 0.2       ,  0.46666667],\n",
       "        [ 0.2       ,  0.46666667]],\n",
       "\n",
       "       [[ 0.2       ,  0.46666667],\n",
       "        [ 0.2       ,  0.46666667],\n",
       "        [ 0.2       ,  0.46666667],\n",
       "        [ 0.2       ,  0.46666667]]])"
      ]
     },
     "execution_count": 247,
     "metadata": {},
     "output_type": "execute_result"
    }
   ],
   "source": [
    "sort_weights"
   ]
  },
  {
   "cell_type": "code",
   "execution_count": 249,
   "metadata": {},
   "outputs": [],
   "source": [
    "background_dist = np.cumsum(sorted_wgts,axis=2)<self.T"
   ]
  },
  {
   "cell_type": "code",
   "execution_count": 251,
   "metadata": {},
   "outputs": [],
   "source": [
    "is_background = np.any(np.logical_and(background_dist,admissible_frames),axis=2)"
   ]
  },
  {
   "cell_type": "code",
   "execution_count": 252,
   "metadata": {},
   "outputs": [
    {
     "data": {
      "text/plain": [
       "array([[False, False, False, False],\n",
       "       [False, False, False, False],\n",
       "       [False, False, False, False]], dtype=bool)"
      ]
     },
     "execution_count": 252,
     "metadata": {},
     "output_type": "execute_result"
    }
   ],
   "source": []
  },
  {
   "cell_type": "code",
   "execution_count": null,
   "metadata": {
    "collapsed": true
   },
   "outputs": [],
   "source": []
  }
 ],
 "metadata": {
  "kernelspec": {
   "display_name": "Python 3",
   "language": "python",
   "name": "python3"
  },
  "language_info": {
   "codemirror_mode": {
    "name": "ipython",
    "version": 3
   },
   "file_extension": ".py",
   "mimetype": "text/x-python",
   "name": "python",
   "nbconvert_exporter": "python",
   "pygments_lexer": "ipython3",
   "version": "3.4.3"
  }
 },
 "nbformat": 4,
 "nbformat_minor": 2
}
