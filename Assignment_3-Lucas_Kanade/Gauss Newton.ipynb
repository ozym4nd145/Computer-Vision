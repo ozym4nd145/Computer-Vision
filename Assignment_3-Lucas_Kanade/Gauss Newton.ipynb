{
 "cells": [
  {
   "cell_type": "code",
   "execution_count": 1,
   "metadata": {
    "collapsed": true
   },
   "outputs": [],
   "source": [
    "import cv2\n",
    "import numpy as np"
   ]
  },
  {
   "cell_type": "code",
   "execution_count": 2,
   "metadata": {
    "collapsed": true
   },
   "outputs": [],
   "source": [
    "def show_images(imgList):\n",
    "    while True:\n",
    "        for (name,img) in imgList:\n",
    "            cv2.imshow(name,img)\n",
    "        pressed_key = cv2.waitKey(0)\n",
    "        if pressed_key==27:\n",
    "            break\n",
    "    cv2.destroyAllWindows()"
   ]
  },
  {
   "cell_type": "markdown",
   "metadata": {},
   "source": [
    "## Gauss Newton"
   ]
  },
  {
   "cell_type": "code",
   "execution_count": 3,
   "metadata": {
    "collapsed": true
   },
   "outputs": [],
   "source": [
    "def create_mask(shape,corners,winsize):\n",
    "    mask = np.zeros(shape[:2],dtype=np.uint8)\n",
    "    for corner in corners:\n",
    "        cv2.rectangle(mask,tuple(corner-int(winsize/2)),tuple(corner+int(winsize/2)),255,-1)\n",
    "    return mask"
   ]
  },
  {
   "cell_type": "code",
   "execution_count": 4,
   "metadata": {
    "collapsed": true
   },
   "outputs": [],
   "source": [
    "def get_derivativeof_warp_affine(x,y):\n",
    "    return np.array([[x,0,y,0,1,0],[0,x,0,y,0,1]])"
   ]
  },
  {
   "cell_type": "code",
   "execution_count": 5,
   "metadata": {
    "collapsed": true
   },
   "outputs": [],
   "source": [
    "def gauss_newton_iter(baseimg,endimg,mask,guess):\n",
    "    assert (baseimg.shape==endimg.shape),\"Template and Image should be of same shape\"\n",
    "    endimg = endimg.copy()\n",
    "    #return baseimg\n",
    "    \n",
    "    ## Computing difference T(x)-I(W(x;p))\n",
    "    transimg = cv2.warpAffine(baseimg,guess,(endimg.shape[1],endimg.shape[0])) ## (x,y,3)\n",
    "    transmask = cv2.warpAffine(mask,guess,(endimg.shape[1],endimg.shape[0])) ## (x,y,3)\n",
    "    diff = np.expand_dims(endimg-transimg,-1) ## (x,y,3,1)\n",
    "    \n",
    "    \n",
    "    ## Calculating gradient and theirs warps (3)\n",
    "    sobelx = cv2.Sobel(baseimg,cv2.CV_64F,1,0,ksize=3) ## (x,y,3)\n",
    "    sobely = cv2.Sobel(baseimg,cv2.CV_64F,0,1,ksize=3) ## (x,y,3)\n",
    "    warped_gradx = cv2.warpAffine(sobelx,guess,(endimg.shape[1],endimg.shape[0])) ## (x,y,3)\n",
    "    warped_grady = cv2.warpAffine(sobely,guess,(endimg.shape[1],endimg.shape[0])) ## (x,y,3)\n",
    "    warped_grad = np.stack([warped_gradx,warped_grady],-1) ## (x,y,3,2)\n",
    "    \n",
    "    ## Caculation Jacobian (4)\n",
    "    J = np.zeros((baseimg.shape[0],baseimg.shape[1],2,6)) ## (x,y,2,6)\n",
    "    for x in range(J.shape[0]):\n",
    "        for y in range(J.shape[1]):\n",
    "            J[x,y] = get_derivativeof_warp_affine(y,x)\n",
    "\n",
    "    ## Computing steepest descent images (5)\n",
    "    steep_desc = np.matmul(warped_grad,J)  ## (x,y,3,6)\n",
    "    steep_desc[transmask==0] = 0\n",
    "    steep_desc_trans = steep_desc.transpose((0,1,3,2)) ## (x,y,6,3)\n",
    "    \n",
    "    ## Computing hessian (6)\n",
    "    hessian = np.sum(np.sum(np.matmul(steep_desc_trans,steep_desc),axis=0),axis=0) #(6,6)\n",
    "    \n",
    "    ## Computing other term (7)\n",
    "    other_term = np.sum(np.sum(np.matmul(steep_desc_trans,diff),axis=0),axis=0) #(6,1)\n",
    "    \n",
    "    ## calc update param (8)\n",
    "    inv_hess = np.linalg.inv(hessian) ## (6,6)\n",
    "    del_p = np.matmul(inv_hess,other_term) ## (6,1)\n",
    "    \n",
    "    return del_p.reshape([2,3])"
   ]
  },
  {
   "cell_type": "code",
   "execution_count": 28,
   "metadata": {
    "collapsed": true
   },
   "outputs": [],
   "source": [
    "def get_transform(baseimg,endimg,corners):\n",
    "    baseimg = baseimg.copy()\n",
    "    endimg = endimg.copy()\n",
    "    mask = create_mask(baseimg.shape,corners,5)\n",
    "    #baseimg[mask!=255] = 0\n",
    "    \n",
    "    transform = np.float32([[1,0,0],[0,1,0]])\n",
    "    \n",
    "    while(True):\n",
    "        change_param = gauss_newton_iter(baseimg,endimg,mask,transform)\n",
    "        transform += change_param\n",
    "        norm = np.linalg.norm(change_param)\n",
    "        if (norm < 1e-6):\n",
    "            break\n",
    "    \n",
    "    return baseimg"
   ]
  },
  {
   "cell_type": "code",
   "execution_count": null,
   "metadata": {
    "collapsed": true
   },
   "outputs": [],
   "source": []
  },
  {
   "cell_type": "code",
   "execution_count": 61,
   "metadata": {
    "collapsed": true
   },
   "outputs": [],
   "source": [
    "baseimg = right.copy()\n",
    "endimg = left.copy()\n",
    "corners = corners.copy()"
   ]
  },
  {
   "cell_type": "code",
   "execution_count": 62,
   "metadata": {
    "collapsed": true
   },
   "outputs": [],
   "source": [
    "mask = create_mask(baseimg.shape,corners,5)"
   ]
  },
  {
   "cell_type": "code",
   "execution_count": 11,
   "metadata": {
    "collapsed": true
   },
   "outputs": [],
   "source": [
    "transform = np.float32([[1,0,0],[0,1,0]])"
   ]
  },
  {
   "cell_type": "code",
   "execution_count": 64,
   "metadata": {},
   "outputs": [
    {
     "data": {
      "text/plain": [
       "array([[  1.01686887e+00,  -8.33746218e-04,   4.01125045e+01],\n",
       "       [  8.46457657e-03,   1.07577655e+00,   1.58570219e+00]])"
      ]
     },
     "execution_count": 64,
     "metadata": {},
     "output_type": "execute_result"
    }
   ],
   "source": [
    "transform"
   ]
  },
  {
   "cell_type": "code",
   "execution_count": 66,
   "metadata": {},
   "outputs": [
    {
     "name": "stdout",
     "output_type": "stream",
     "text": [
      "0\n",
      "0.0706520215506\n",
      "[[  1.01776269e+00  -1.01889489e-03   4.01108399e+01]\n",
      " [  8.26934196e-03   1.27471747e+00   1.34609944e+00]]\n",
      "1\n",
      "0.193123432451\n",
      "[[  1.01794879e+00  -9.81019064e-04   4.01105822e+01]\n",
      " [  8.53843507e-03   1.28671625e+00   1.15334957e+00]]\n",
      "2\n",
      "0.0976323238768\n",
      "[[  1.01806590e+00  -1.01940755e-03   4.01102623e+01]\n",
      " [  8.53953385e-03   1.33278738e+00   1.06727167e+00]]\n",
      "3\n",
      "0.0468627259014\n",
      "[[  1.01821630e+00  -1.12485660e-03   4.01099168e+01]\n",
      " [  8.33923774e-03   1.37586452e+00   1.08571840e+00]]\n",
      "4\n",
      "0.156931004242\n",
      "[[  1.01836351e+00  -9.18854924e-04   4.01097252e+01]\n",
      " [  8.24293568e-03   1.38060511e+00   9.28859362e-01]]\n",
      "5\n",
      "0.183916419528\n",
      "[[  1.01859104e+00  -6.50531201e-04   4.01094344e+01]\n",
      " [  8.15564005e-03   1.40126617e+00   7.46107745e-01]]\n",
      "6\n",
      "0.0941699071925\n",
      "[[  1.01892939e+00  -5.74192677e-04   4.01091383e+01]\n",
      " [  8.02883599e-03   1.38114338e+00   6.54114155e-01]]\n",
      "7\n",
      "0.178333771772\n",
      "[[  1.01922725e+00  -3.50760731e-04   4.01089850e+01]\n",
      " [  7.93210446e-03   1.33408275e+00   4.82102354e-01]]\n",
      "8\n",
      "0.0855460571132\n",
      "[[  1.01957409e+00  -3.99774668e-04   4.01088465e+01]\n",
      " [  7.87425024e-03   1.27627983e+00   4.19040443e-01]]\n",
      "9\n",
      "0.225111922838\n",
      "[[  1.01991172e+00  -3.29802002e-04   4.01089766e+01]\n",
      " [  7.97255979e-03   1.10969429e+00   2.67632082e-01]]\n",
      "10\n",
      "0.256160988247\n",
      "[[  1.02040720e+00  -1.08031209e-04   4.01090246e+01]\n",
      " [  8.17287514e-03   9.40824025e-01   7.50160172e-02]]\n",
      "11\n",
      "0.0664077971965\n",
      "[[  1.02071656e+00  -5.86823189e-05   4.01087754e+01]\n",
      " [  7.91075150e-03   8.86107952e-01   3.73873330e-02]]\n",
      "12\n",
      "0.268827484937\n",
      "[[  1.02113179e+00  -1.18795489e-05   4.01090349e+01]\n",
      " [  8.19348412e-03   6.86851865e-01  -1.43070160e-01]]\n",
      "13\n",
      "0.217109004631\n",
      "[[  1.02148211e+00   1.17638780e-05   4.01090333e+01]\n",
      " [  8.54122333e-03   5.64126420e-01  -3.22163825e-01]]\n",
      "14\n",
      "0.31068066957\n",
      "[[  1.02175890e+00   1.31202125e-04   4.01093023e+01]\n",
      " [  9.46610789e-03   4.24463155e-01  -5.99680729e-01]]\n",
      "15\n",
      "0.0925217433854\n",
      "[[  1.02186443e+00   5.54542182e-05   4.01093096e+01]\n",
      " [  8.15349972e-03   3.63527517e-01  -5.30071958e-01]]\n",
      "16\n",
      "0.416268216307\n",
      "[[  1.02198718e+00  -4.66931872e-04   4.01090088e+01]\n",
      " [  5.28461513e-03   3.37981894e-01  -1.14598686e-01]]\n",
      "17\n",
      "0.255286045965\n",
      "[[  1.02230774e+00  -3.25890345e-04   4.01089430e+01]\n",
      " [  6.39025024e-03   2.37693944e-01  -3.49358015e-01]]\n",
      "18\n",
      "0.450330857397\n",
      "[[  1.02290739e+00  -6.62040445e-04   4.01116413e+01]\n",
      " [  4.33004355e-03  -1.19389744e-01  -7.49912481e-02]]\n"
     ]
    },
    {
     "ename": "LinAlgError",
     "evalue": "Singular matrix",
     "output_type": "error",
     "traceback": [
      "\u001b[0;31m---------------------------------------------------------------------------\u001b[0m",
      "\u001b[0;31mLinAlgError\u001b[0m                               Traceback (most recent call last)",
      "\u001b[0;32m<ipython-input-66-8184b5c10018>\u001b[0m in \u001b[0;36m<module>\u001b[0;34m()\u001b[0m\n\u001b[1;32m      1\u001b[0m \u001b[0;32mfor\u001b[0m \u001b[0mi\u001b[0m \u001b[0;32min\u001b[0m \u001b[0mrange\u001b[0m\u001b[0;34m(\u001b[0m\u001b[0;36m100\u001b[0m\u001b[0;34m)\u001b[0m\u001b[0;34m:\u001b[0m\u001b[0;34m\u001b[0m\u001b[0m\n\u001b[0;32m----> 2\u001b[0;31m     \u001b[0mchange_param\u001b[0m \u001b[0;34m=\u001b[0m \u001b[0mgauss_newton_iter\u001b[0m\u001b[0;34m(\u001b[0m\u001b[0mbaseimg\u001b[0m\u001b[0;34m,\u001b[0m\u001b[0mendimg\u001b[0m\u001b[0;34m,\u001b[0m\u001b[0mmask\u001b[0m\u001b[0;34m,\u001b[0m\u001b[0mtransform\u001b[0m\u001b[0;34m)\u001b[0m\u001b[0;34m\u001b[0m\u001b[0m\n\u001b[0m\u001b[1;32m      3\u001b[0m     \u001b[0mtransform\u001b[0m \u001b[0;34m+=\u001b[0m \u001b[0mchange_param\u001b[0m\u001b[0;34m\u001b[0m\u001b[0m\n\u001b[1;32m      4\u001b[0m     \u001b[0mprint\u001b[0m\u001b[0;34m(\u001b[0m\u001b[0mi\u001b[0m\u001b[0;34m)\u001b[0m\u001b[0;34m\u001b[0m\u001b[0m\n\u001b[1;32m      5\u001b[0m     \u001b[0mprint\u001b[0m\u001b[0;34m(\u001b[0m\u001b[0mnp\u001b[0m\u001b[0;34m.\u001b[0m\u001b[0mlinalg\u001b[0m\u001b[0;34m.\u001b[0m\u001b[0mnorm\u001b[0m\u001b[0;34m(\u001b[0m\u001b[0mchange_param\u001b[0m\u001b[0;34m)\u001b[0m\u001b[0;34m)\u001b[0m\u001b[0;34m\u001b[0m\u001b[0m\n",
      "\u001b[0;32m<ipython-input-5-ee4bd35a4af5>\u001b[0m in \u001b[0;36mgauss_newton_iter\u001b[0;34m(baseimg, endimg, mask, guess)\u001b[0m\n\u001b[1;32m     35\u001b[0m \u001b[0;34m\u001b[0m\u001b[0m\n\u001b[1;32m     36\u001b[0m     \u001b[0;31m## calc update param (8)\u001b[0m\u001b[0;34m\u001b[0m\u001b[0;34m\u001b[0m\u001b[0m\n\u001b[0;32m---> 37\u001b[0;31m     \u001b[0minv_hess\u001b[0m \u001b[0;34m=\u001b[0m \u001b[0mnp\u001b[0m\u001b[0;34m.\u001b[0m\u001b[0mlinalg\u001b[0m\u001b[0;34m.\u001b[0m\u001b[0minv\u001b[0m\u001b[0;34m(\u001b[0m\u001b[0mhessian\u001b[0m\u001b[0;34m)\u001b[0m \u001b[0;31m## (6,6)\u001b[0m\u001b[0;34m\u001b[0m\u001b[0m\n\u001b[0m\u001b[1;32m     38\u001b[0m     \u001b[0mdel_p\u001b[0m \u001b[0;34m=\u001b[0m \u001b[0mnp\u001b[0m\u001b[0;34m.\u001b[0m\u001b[0mmatmul\u001b[0m\u001b[0;34m(\u001b[0m\u001b[0minv_hess\u001b[0m\u001b[0;34m,\u001b[0m\u001b[0mother_term\u001b[0m\u001b[0;34m)\u001b[0m \u001b[0;31m## (6,1)\u001b[0m\u001b[0;34m\u001b[0m\u001b[0m\n\u001b[1;32m     39\u001b[0m \u001b[0;34m\u001b[0m\u001b[0m\n",
      "\u001b[0;32m~/.local/lib/python3.4/site-packages/numpy/linalg/linalg.py\u001b[0m in \u001b[0;36minv\u001b[0;34m(a)\u001b[0m\n\u001b[1;32m    511\u001b[0m     \u001b[0msignature\u001b[0m \u001b[0;34m=\u001b[0m \u001b[0;34m'D->D'\u001b[0m \u001b[0;32mif\u001b[0m \u001b[0misComplexType\u001b[0m\u001b[0;34m(\u001b[0m\u001b[0mt\u001b[0m\u001b[0;34m)\u001b[0m \u001b[0;32melse\u001b[0m \u001b[0;34m'd->d'\u001b[0m\u001b[0;34m\u001b[0m\u001b[0m\n\u001b[1;32m    512\u001b[0m     \u001b[0mextobj\u001b[0m \u001b[0;34m=\u001b[0m \u001b[0mget_linalg_error_extobj\u001b[0m\u001b[0;34m(\u001b[0m\u001b[0m_raise_linalgerror_singular\u001b[0m\u001b[0;34m)\u001b[0m\u001b[0;34m\u001b[0m\u001b[0m\n\u001b[0;32m--> 513\u001b[0;31m     \u001b[0mainv\u001b[0m \u001b[0;34m=\u001b[0m \u001b[0m_umath_linalg\u001b[0m\u001b[0;34m.\u001b[0m\u001b[0minv\u001b[0m\u001b[0;34m(\u001b[0m\u001b[0ma\u001b[0m\u001b[0;34m,\u001b[0m \u001b[0msignature\u001b[0m\u001b[0;34m=\u001b[0m\u001b[0msignature\u001b[0m\u001b[0;34m,\u001b[0m \u001b[0mextobj\u001b[0m\u001b[0;34m=\u001b[0m\u001b[0mextobj\u001b[0m\u001b[0;34m)\u001b[0m\u001b[0;34m\u001b[0m\u001b[0m\n\u001b[0m\u001b[1;32m    514\u001b[0m     \u001b[0;32mreturn\u001b[0m \u001b[0mwrap\u001b[0m\u001b[0;34m(\u001b[0m\u001b[0mainv\u001b[0m\u001b[0;34m.\u001b[0m\u001b[0mastype\u001b[0m\u001b[0;34m(\u001b[0m\u001b[0mresult_t\u001b[0m\u001b[0;34m,\u001b[0m \u001b[0mcopy\u001b[0m\u001b[0;34m=\u001b[0m\u001b[0;32mFalse\u001b[0m\u001b[0;34m)\u001b[0m\u001b[0;34m)\u001b[0m\u001b[0;34m\u001b[0m\u001b[0m\n\u001b[1;32m    515\u001b[0m \u001b[0;34m\u001b[0m\u001b[0m\n",
      "\u001b[0;32m~/.local/lib/python3.4/site-packages/numpy/linalg/linalg.py\u001b[0m in \u001b[0;36m_raise_linalgerror_singular\u001b[0;34m(err, flag)\u001b[0m\n\u001b[1;32m     88\u001b[0m \u001b[0;34m\u001b[0m\u001b[0m\n\u001b[1;32m     89\u001b[0m \u001b[0;32mdef\u001b[0m \u001b[0m_raise_linalgerror_singular\u001b[0m\u001b[0;34m(\u001b[0m\u001b[0merr\u001b[0m\u001b[0;34m,\u001b[0m \u001b[0mflag\u001b[0m\u001b[0;34m)\u001b[0m\u001b[0;34m:\u001b[0m\u001b[0;34m\u001b[0m\u001b[0m\n\u001b[0;32m---> 90\u001b[0;31m     \u001b[0;32mraise\u001b[0m \u001b[0mLinAlgError\u001b[0m\u001b[0;34m(\u001b[0m\u001b[0;34m\"Singular matrix\"\u001b[0m\u001b[0;34m)\u001b[0m\u001b[0;34m\u001b[0m\u001b[0m\n\u001b[0m\u001b[1;32m     91\u001b[0m \u001b[0;34m\u001b[0m\u001b[0m\n\u001b[1;32m     92\u001b[0m \u001b[0;32mdef\u001b[0m \u001b[0m_raise_linalgerror_nonposdef\u001b[0m\u001b[0;34m(\u001b[0m\u001b[0merr\u001b[0m\u001b[0;34m,\u001b[0m \u001b[0mflag\u001b[0m\u001b[0;34m)\u001b[0m\u001b[0;34m:\u001b[0m\u001b[0;34m\u001b[0m\u001b[0m\n",
      "\u001b[0;31mLinAlgError\u001b[0m: Singular matrix"
     ]
    }
   ],
   "source": [
    "for i in range(100):\n",
    "    change_param = gauss_newton_iter(baseimg,endimg,mask,transform)\n",
    "    transform += change_param\n",
    "    print(i)\n",
    "    print(np.linalg.norm(change_param))\n",
    "    print(transform)"
   ]
  },
  {
   "cell_type": "markdown",
   "metadata": {},
   "source": [
    "## Krunal Pics"
   ]
  },
  {
   "cell_type": "code",
   "execution_count": 43,
   "metadata": {
    "collapsed": true
   },
   "outputs": [],
   "source": [
    "best_param = np.float32([[  1.02014029e+00,7.59442290e-03,-2.07362343e-02],\n",
    " [  1.89197343e-02,1.32550943e+00,-1.51765833e+01]])"
   ]
  },
  {
   "cell_type": "code",
   "execution_count": 7,
   "metadata": {
    "collapsed": true
   },
   "outputs": [],
   "source": [
    "left = cv2.imread(\"./krunal_pics/room_left.jpg\")\n",
    "right = cv2.imread(\"./krunal_pics/room_right.jpg\")"
   ]
  },
  {
   "cell_type": "code",
   "execution_count": null,
   "metadata": {
    "collapsed": true
   },
   "outputs": [],
   "source": [
    "show_images([(\"left\",left),(\"right\",right)])"
   ]
  },
  {
   "cell_type": "code",
   "execution_count": 49,
   "metadata": {
    "collapsed": true
   },
   "outputs": [],
   "source": [
    "point_left = np.float32([[498,276],[300,186],[561,247],[578,361]])\n",
    "point_right = np.float32([[451,275],[256,185],[513,245],[531,357]])"
   ]
  },
  {
   "cell_type": "code",
   "execution_count": 8,
   "metadata": {
    "collapsed": true
   },
   "outputs": [],
   "source": [
    "gray_right = cv2.cvtColor(right,cv2.COLOR_BGR2GRAY)\n",
    "corners = cv2.goodFeaturesToTrack(gray_right,25,0.01,10)\n",
    "corners = np.int0(corners)\n",
    "corners = np.int0(corners).squeeze()"
   ]
  },
  {
   "cell_type": "code",
   "execution_count": null,
   "metadata": {
    "collapsed": true
   },
   "outputs": [],
   "source": [
    "affine_transform = get_transform(right,left,corners)"
   ]
  },
  {
   "cell_type": "code",
   "execution_count": 44,
   "metadata": {},
   "outputs": [],
   "source": [
    "affine_transform = best_param"
   ]
  },
  {
   "cell_type": "code",
   "execution_count": 50,
   "metadata": {
    "collapsed": true
   },
   "outputs": [],
   "source": [
    "affine_transform = cv2.getAffineTransform(point_right[:3],point_left[:3])\n",
    "# persp_transform = cv2.getPerspectiveTransform(point_right,point_left)"
   ]
  },
  {
   "cell_type": "code",
   "execution_count": 51,
   "metadata": {},
   "outputs": [
    {
     "data": {
      "text/plain": [
       "array([[  1.01574803e+00,  -7.87401575e-04,   4.01141732e+01],\n",
       "       [  7.87401575e-03,   9.82939633e-01,   2.14041995e+00]])"
      ]
     },
     "execution_count": 51,
     "metadata": {},
     "output_type": "execute_result"
    }
   ],
   "source": [
    "affine_transform"
   ]
  },
  {
   "cell_type": "code",
   "execution_count": 52,
   "metadata": {},
   "outputs": [],
   "source": [
    "left_affine = cv2.warpAffine(right,affine_transform,(right.shape[1],right.shape[0]))\n",
    "# left_persp = cv2.warpPerspective(right,persp_transform,(right.shape[1]+left.shape[1],right.shape[0]))"
   ]
  },
  {
   "cell_type": "code",
   "execution_count": 53,
   "metadata": {
    "collapsed": true
   },
   "outputs": [],
   "source": [
    "#left_affine[0:left.shape[0],0:left.shape[1]] = left\n",
    "# left_persp[0:left.shape[0],0:left.shape[1]] = left"
   ]
  },
  {
   "cell_type": "code",
   "execution_count": 54,
   "metadata": {
    "collapsed": true
   },
   "outputs": [],
   "source": [
    "# show_images([(\"left\",left),(\"right\",right),(\"affine\",left_affine),(\"persp\",left_persp)])"
   ]
  },
  {
   "cell_type": "code",
   "execution_count": 55,
   "metadata": {
    "collapsed": true
   },
   "outputs": [],
   "source": [
    "show_images([(\"left\",left),(\"right\",right),(\"affine\",left_affine)])"
   ]
  },
  {
   "cell_type": "code",
   "execution_count": null,
   "metadata": {
    "collapsed": true
   },
   "outputs": [],
   "source": []
  },
  {
   "cell_type": "code",
   "execution_count": null,
   "metadata": {
    "collapsed": true
   },
   "outputs": [],
   "source": []
  },
  {
   "cell_type": "code",
   "execution_count": null,
   "metadata": {
    "collapsed": true
   },
   "outputs": [],
   "source": []
  },
  {
   "cell_type": "code",
   "execution_count": null,
   "metadata": {
    "collapsed": true
   },
   "outputs": [],
   "source": []
  },
  {
   "cell_type": "code",
   "execution_count": null,
   "metadata": {
    "collapsed": true
   },
   "outputs": [],
   "source": []
  },
  {
   "cell_type": "code",
   "execution_count": null,
   "metadata": {
    "collapsed": true
   },
   "outputs": [],
   "source": []
  },
  {
   "cell_type": "code",
   "execution_count": null,
   "metadata": {
    "collapsed": true
   },
   "outputs": [],
   "source": [
    "for i in corners:\n",
    "    x,y = i\n",
    "    cv2.circle(right,(x,y),3,255,-1)"
   ]
  },
  {
   "cell_type": "code",
   "execution_count": null,
   "metadata": {
    "collapsed": true
   },
   "outputs": [],
   "source": []
  }
 ],
 "metadata": {
  "kernelspec": {
   "display_name": "Python 3",
   "language": "python",
   "name": "python3"
  },
  "language_info": {
   "codemirror_mode": {
    "name": "ipython",
    "version": 3
   },
   "file_extension": ".py",
   "mimetype": "text/x-python",
   "name": "python",
   "nbconvert_exporter": "python",
   "pygments_lexer": "ipython3",
   "version": "3.4.3"
  }
 },
 "nbformat": 4,
 "nbformat_minor": 2
}
