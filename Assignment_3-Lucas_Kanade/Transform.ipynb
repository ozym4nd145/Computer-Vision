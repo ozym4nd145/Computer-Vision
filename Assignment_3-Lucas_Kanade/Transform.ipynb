{
 "cells": [
  {
   "cell_type": "code",
   "execution_count": 1,
   "metadata": {
    "collapsed": true
   },
   "outputs": [],
   "source": [
    "import cv2\n",
    "import numpy as np"
   ]
  },
  {
   "cell_type": "code",
   "execution_count": null,
   "metadata": {
    "collapsed": true
   },
   "outputs": [],
   "source": [
    "book1 = cv2.imread(\"./Homography/book1.jpg\")\n",
    "book2 = cv2.imread(\"./Homography/book2.jpg\")"
   ]
  },
  {
   "cell_type": "code",
   "execution_count": 2,
   "metadata": {
    "collapsed": true
   },
   "outputs": [],
   "source": [
    "def show_images(imgList):\n",
    "    while True:\n",
    "        for (name,img) in imgList:\n",
    "            cv2.imshow(name,img)\n",
    "        pressed_key = cv2.waitKey(0)\n",
    "        if pressed_key==27:\n",
    "            break\n",
    "    cv2.destroyAllWindows()"
   ]
  },
  {
   "cell_type": "code",
   "execution_count": null,
   "metadata": {
    "collapsed": true
   },
   "outputs": [],
   "source": [
    "input_points = np.float32([[190,278],[170,450],[425,300],[420,465]])\n",
    "output_points = np.float32([[285,345],[195,425],[430,435],[350,540]])"
   ]
  },
  {
   "cell_type": "code",
   "execution_count": null,
   "metadata": {
    "collapsed": true
   },
   "outputs": [],
   "source": [
    "affine_transform = cv2.getAffineTransform(input_points[:3],output_points[:3])\n",
    "persp_transform = cv2.getPerspectiveTransform(input_points,output_points)"
   ]
  },
  {
   "cell_type": "code",
   "execution_count": null,
   "metadata": {
    "collapsed": true
   },
   "outputs": [],
   "source": [
    "book_affine = cv2.warpAffine(book2,affine_transform,(book1.shape[1],book1.shape[0]))\n",
    "book_persp = cv2.warpPerspective(book2,persp_transform,(book1.shape[1],book1.shape[0]))"
   ]
  },
  {
   "cell_type": "code",
   "execution_count": null,
   "metadata": {
    "collapsed": true
   },
   "outputs": [],
   "source": [
    "show_images([(\"b1\",book1),(\"affine\",book_affine),(\"persp\",book_persp)])"
   ]
  },
  {
   "cell_type": "code",
   "execution_count": null,
   "metadata": {
    "collapsed": true
   },
   "outputs": [],
   "source": []
  },
  {
   "cell_type": "code",
   "execution_count": null,
   "metadata": {
    "collapsed": true
   },
   "outputs": [],
   "source": []
  },
  {
   "cell_type": "markdown",
   "metadata": {},
   "source": [
    "## Image stiching"
   ]
  },
  {
   "cell_type": "code",
   "execution_count": null,
   "metadata": {
    "collapsed": true
   },
   "outputs": [],
   "source": [
    "left = cv2.imread(\"./panorama-stitching/images/scottsdale_left_01.png\")\n",
    "right = cv2.imread(\"./panorama-stitching/images/scottsdale_right_01.png\")"
   ]
  },
  {
   "cell_type": "code",
   "execution_count": null,
   "metadata": {
    "collapsed": true
   },
   "outputs": [],
   "source": [
    "show_images([(\"left\",left),(\"right\",right)])"
   ]
  },
  {
   "cell_type": "code",
   "execution_count": null,
   "metadata": {
    "collapsed": true
   },
   "outputs": [],
   "source": [
    "point_left = np.float32([[820,410],[777,357],[933,736],[674,394]])\n",
    "point_right = np.float32([[282,388],[247,340],[357,677],[136,370]])"
   ]
  },
  {
   "cell_type": "code",
   "execution_count": null,
   "metadata": {},
   "outputs": [],
   "source": [
    "affine_transform = cv2.getAffineTransform(point_right[:3],point_left[:3])\n",
    "persp_transform = cv2.getPerspectiveTransform(point_right,point_left)"
   ]
  },
  {
   "cell_type": "code",
   "execution_count": null,
   "metadata": {},
   "outputs": [],
   "source": [
    "left_affine = cv2.warpAffine(right,affine_transform,(right.shape[1]+left.shape[1],right.shape[0]))\n",
    "left_persp = cv2.warpPerspective(right,persp_transform,(right.shape[1]+left.shape[1],right.shape[0]))"
   ]
  },
  {
   "cell_type": "code",
   "execution_count": null,
   "metadata": {},
   "outputs": [],
   "source": [
    "left_affine[0:left.shape[0],0:left.shape[1]] = left\n",
    "left_persp[0:left.shape[0],0:left.shape[1]] = left"
   ]
  },
  {
   "cell_type": "code",
   "execution_count": null,
   "metadata": {
    "collapsed": true
   },
   "outputs": [],
   "source": [
    "show_images([(\"left\",left),(\"right\",right),(\"affine\",left_affine),(\"persp\",left_persp)])"
   ]
  },
  {
   "cell_type": "code",
   "execution_count": null,
   "metadata": {
    "collapsed": true
   },
   "outputs": [],
   "source": [
    "check_persp = np.float64([[  4.03375255e-01,2.20498997e-02,5.48519731e+02],\n",
    " [ -2.30603779e-01,8.41673801e-01,7.75289030e+01],\n",
    " [ -5.81590386e-04,-3.60073467e-05,1.00000000e+00]])"
   ]
  },
  {
   "cell_type": "code",
   "execution_count": null,
   "metadata": {
    "collapsed": true
   },
   "outputs": [],
   "source": [
    "left_persp_new = cv2.warpPerspective(right,check_persp,(right.shape[1],right.shape[0]))"
   ]
  },
  {
   "cell_type": "code",
   "execution_count": null,
   "metadata": {
    "collapsed": true
   },
   "outputs": [],
   "source": [
    "show_images([(\"left\",left),(\"right\",right),(\"affine\",left_affine),(\"persp\",left_persp),(\"new_trans\",left_persp_new)])"
   ]
  },
  {
   "cell_type": "code",
   "execution_count": 40,
   "metadata": {},
   "outputs": [],
   "source": []
  },
  {
   "cell_type": "markdown",
   "metadata": {},
   "source": [
    "## Krunal Pics"
   ]
  },
  {
   "cell_type": "code",
   "execution_count": 33,
   "metadata": {
    "collapsed": true
   },
   "outputs": [],
   "source": [
    "left = cv2.imread(\"./krunal_pics/room_left.jpg\")\n",
    "right = cv2.imread(\"./krunal_pics/room_right.jpg\")"
   ]
  },
  {
   "cell_type": "code",
   "execution_count": 32,
   "metadata": {
    "collapsed": true
   },
   "outputs": [],
   "source": [
    "show_images([(\"left\",left),(\"right\",right)])"
   ]
  },
  {
   "cell_type": "code",
   "execution_count": 34,
   "metadata": {
    "collapsed": true
   },
   "outputs": [],
   "source": [
    "point_left = np.float32([[498,276],[300,186],[561,247],[578,361]])\n",
    "point_right = np.float32([[451,275],[256,185],[513,245],[531,357]])"
   ]
  },
  {
   "cell_type": "code",
   "execution_count": 30,
   "metadata": {},
   "outputs": [],
   "source": [
    "gray_right = cv2.cvtColor(right,cv2.COLOR_BGR2GRAY)\n",
    "corners = cv2.goodFeaturesToTrack(gray_right,25,0.01,10)\n",
    "corners = np.int0(corners).squeeze()"
   ]
  },
  {
   "cell_type": "code",
   "execution_count": null,
   "metadata": {
    "collapsed": true
   },
   "outputs": [],
   "source": []
  },
  {
   "cell_type": "code",
   "execution_count": null,
   "metadata": {
    "collapsed": true
   },
   "outputs": [],
   "source": []
  },
  {
   "cell_type": "code",
   "execution_count": 8,
   "metadata": {
    "collapsed": true
   },
   "outputs": [],
   "source": [
    "affine_transform = cv2.getAffineTransform(point_right[:3],point_left[:3])\n",
    "persp_transform = cv2.getPerspectiveTransform(point_right,point_left)"
   ]
  },
  {
   "cell_type": "code",
   "execution_count": 11,
   "metadata": {
    "collapsed": true
   },
   "outputs": [],
   "source": [
    "left_affine = cv2.warpAffine(right,affine_transform,(right.shape[1]+left.shape[1],right.shape[0]))\n",
    "left_persp = cv2.warpPerspective(right,persp_transform,(right.shape[1]+left.shape[1],right.shape[0]))"
   ]
  },
  {
   "cell_type": "code",
   "execution_count": 12,
   "metadata": {
    "collapsed": true
   },
   "outputs": [],
   "source": [
    "left_affine[0:left.shape[0],0:left.shape[1]] = left\n",
    "left_persp[0:left.shape[0],0:left.shape[1]] = left"
   ]
  },
  {
   "cell_type": "code",
   "execution_count": 13,
   "metadata": {
    "collapsed": true
   },
   "outputs": [],
   "source": [
    "show_images([(\"left\",left),(\"right\",right),(\"affine\",left_affine),(\"persp\",left_persp)])"
   ]
  },
  {
   "cell_type": "code",
   "execution_count": null,
   "metadata": {
    "collapsed": true
   },
   "outputs": [],
   "source": []
  }
 ],
 "metadata": {
  "kernelspec": {
   "display_name": "Python 3",
   "language": "python",
   "name": "python3"
  },
  "language_info": {
   "codemirror_mode": {
    "name": "ipython",
    "version": 3
   },
   "file_extension": ".py",
   "mimetype": "text/x-python",
   "name": "python",
   "nbconvert_exporter": "python",
   "pygments_lexer": "ipython3",
   "version": "3.4.3"
  }
 },
 "nbformat": 4,
 "nbformat_minor": 2
}
