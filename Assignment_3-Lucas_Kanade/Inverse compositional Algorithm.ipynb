{
 "cells": [
  {
   "cell_type": "code",
   "execution_count": 1,
   "metadata": {
    "collapsed": true
   },
   "outputs": [],
   "source": [
    "import cv2\n",
    "import numpy as np\n",
    "import os"
   ]
  },
  {
   "cell_type": "code",
   "execution_count": 2,
   "metadata": {
    "collapsed": true
   },
   "outputs": [],
   "source": [
    "def show_images(imgList):\n",
    "    while True:\n",
    "        for (name,img) in imgList:\n",
    "            cv2.imshow(name,img)\n",
    "        pressed_key = cv2.waitKey(0)\n",
    "        if pressed_key==27:\n",
    "            break\n",
    "    cv2.destroyAllWindows()"
   ]
  },
  {
   "cell_type": "code",
   "execution_count": 3,
   "metadata": {
    "collapsed": true
   },
   "outputs": [],
   "source": [
    "def jacob_warp_affine(x,y):\n",
    "    return np.array([[x,0,y,0,1,0],[0,x,0,y,0,1]],dtype=np.float32) ##(2,3)"
   ]
  },
  {
   "cell_type": "code",
   "execution_count": 4,
   "metadata": {
    "collapsed": true
   },
   "outputs": [],
   "source": [
    "def linearize_warp(wf):\n",
    "    assert (wf.shape==(2,3))\n",
    "    return np.float32([[wf[0,0]-1.0],[wf[1,0]],[wf[0,1]],[wf[1,1]-1.0],[wf[0,2]],[wf[1,2]]]) ##(6,1)"
   ]
  },
  {
   "cell_type": "code",
   "execution_count": 5,
   "metadata": {
    "collapsed": true
   },
   "outputs": [],
   "source": [
    "def make_warp(p):\n",
    "    assert (p.shape==(6,1))\n",
    "    return np.float32([[p[0,0]+1.0,p[2,0],p[4,0]],[p[1,0],p[3,0]+1.0,p[5,0]]]) ##(2,3)"
   ]
  },
  {
   "cell_type": "code",
   "execution_count": 6,
   "metadata": {
    "collapsed": true
   },
   "outputs": [],
   "source": [
    "def inverse_param(p):\n",
    "    assert (p.shape==(6,1))\n",
    "    denom = ((1+p[0,0])*(1+p[3,0]) - (p[1,0]*p[2,0]))\n",
    "    invp = np.zeros(p.shape,dtype=np.float32)\n",
    "    invp[0,0] = (-p[0,0])-(p[0,0]*p[3,0])+(p[1,0]*p[2,0])\n",
    "    invp[1,0] = (-p[1,0])\n",
    "    invp[2,0] = (-p[2,0])\n",
    "    invp[3,0] = (-p[3,0])-(p[0,0]*p[3,0])+(p[1,0]*p[2,0])\n",
    "    invp[4,0] = (-p[4,0])-(p[3,0]*p[4,0])+(p[2,0]*p[5,0])\n",
    "    invp[5,0] = (-p[5,0])-(p[0,0]*p[5,0])+(p[1,0]*p[4,0])\n",
    "    invp = invp/denom\n",
    "    return invp ##(6,1)"
   ]
  },
  {
   "cell_type": "code",
   "execution_count": 7,
   "metadata": {
    "collapsed": true
   },
   "outputs": [],
   "source": [
    "def compose_param(p1,p2):\n",
    "    assert (p1.shape==(6,1))\n",
    "    assert (p2.shape==(6,1))\n",
    "    comp = np.zeros(p1.shape,dtype=np.float32)\n",
    "    comp[0,0] = p1[0,0]+p2[0,0]+(p1[0,0]*p2[0,0])+(p1[2,0]*p2[1,0])\n",
    "    comp[1,0] = p1[1,0]+p2[1,0]+(p1[1,0]*p2[0,0])+(p1[3,0]*p2[1,0])\n",
    "    comp[2,0] = p1[2,0]+p2[2,0]+(p1[0,0]*p2[2,0])+(p1[2,0]*p2[3,0])\n",
    "    comp[3,0] = p1[3,0]+p2[3,0]+(p1[1,0]*p2[2,0])+(p1[3,0]*p2[3,0])\n",
    "    comp[4,0] = p1[4,0]+p2[4,0]+(p1[0,0]*p2[4,0])+(p1[2,0]*p2[5,0])\n",
    "    comp[5,0] = p1[5,0]+p2[5,0]+(p1[1,0]*p2[4,0])+(p1[3,0]*p2[5,0])\n",
    "    return comp ##(6,1)"
   ]
  },
  {
   "cell_type": "code",
   "execution_count": 8,
   "metadata": {
    "collapsed": true
   },
   "outputs": [],
   "source": [
    "def gaussNewton(img,template,warp,epsilon,transform):\n",
    "    template = template.astype('float32')\n",
    "    img = img.astype('float32')\n",
    "    assert (len(img.shape)==2), \"Grayscale image should be given\"\n",
    "    ## template is the target image\n",
    "    ## img is initial image\n",
    "    ## warp is the initial guess warp ([1+p1,p3,p5],[p2,1+p4,p6])\n",
    "    ## transform is one of \"AFFINE\" \"TRANSLATIONAL\"\n",
    "    ## epsilon defines the ending condition\n",
    "    \n",
    "\n",
    "    template_shape = template.shape\n",
    "    tmplx,tmply = template_shape\n",
    "    \n",
    "    ## Calculating gradients (3)\n",
    "    \n",
    "    # kerX = np.float32([[-0.5,0.0,0.5]])\n",
    "    # kerY = np.float32([-0.5,0.0,0.5])\n",
    "    # gradX = cv2.filter2D(template,-1,kerX)\n",
    "    # gradY = cv2.filter2D(template,-1,kerY)\n",
    "    \n",
    "    gradTx = cv2.Sobel(template,cv2.CV_64F,1,0,ksize=3) ##(x,y)\n",
    "    gradTy = cv2.Sobel(template,cv2.CV_64F,0,1,ksize=3) ##(x,y)\n",
    "    grad = np.stack([gradTx,gradTy],axis=-1) ##(x,y,2)\n",
    "    grad = np.expand_dims(grad,axis=2) ##(x,y,1,2)\n",
    "    \n",
    "    ## Calculating jacobian of template image (4)\n",
    "    jacob_tmpl = np.zeros([tmplx,tmply,2,6]) ## (x,y,2,6)\n",
    "    for i in range(tmplx):\n",
    "        for j in range(tmply):\n",
    "            # because i,j in numpy image correspond to j,i in image axis\n",
    "            jacob_tmpl[i,j] = jacob_warp_affine(j,i)\n",
    "    \n",
    "    ## Calculating steepest descent (5)\n",
    "    steep_desc = np.matmul(grad,jacob_tmpl) ##(x,y,1,6)\n",
    "    steep_desc_trans = np.transpose(steep_desc,[0,1,3,2]) ##(x,y,6,1)\n",
    "    \n",
    "    \n",
    "    ## Calculating Hessian matrix (6)\n",
    "    hess = np.sum(np.sum(np.matmul(steep_desc_trans,steep_desc),axis=0),axis=0) ##(6,6)\n",
    "    inv_hess = np.linalg.inv(hess) ##(6,6)\n",
    "    \n",
    "    delP = np.ones([6,1],dtype=np.float32)\n",
    "    iterations = 0\n",
    "#     while(np.linalg.norm(delP,2) > epsilon): #2-Norm end condition\n",
    "    while(np.linalg.norm(delP) > epsilon): #Frobenius norm end condition\n",
    "        \n",
    "        ## Calculation warp of given image with current guess (1)\n",
    "        warp_img = cv2.warpAffine(img,warp,(tmply,tmplx)) ##(x,y)\n",
    "        ## Calculate error image (2)\n",
    "        err_img = warp_img - template ##(x,y)\n",
    "        err_img = np.expand_dims(np.expand_dims(err_img,-1),-1) ##(x,y,1,1)\n",
    "        \n",
    "        ## Computer other term (7)\n",
    "        other_term = np.sum(np.sum(np.matmul(steep_desc_trans,err_img),axis=0),axis=0) ##(6,1)\n",
    "        ## Computing delP (8)\n",
    "        delP = np.matmul(inv_hess,other_term) ##(6,1)\n",
    "        \n",
    "        ## Updating warp (9)\n",
    "        initP = linearize_warp(warp) ##(6,1)\n",
    "#         invP = inverse_param(delP) ##(6,1)\n",
    "        invP = delP\n",
    "        nextP = compose_param(initP,invP) ##(6,1)\n",
    "        warp = make_warp(nextP) ##(2,3)\n",
    "        iterations += 1\n",
    "        \n",
    "#         print(\"Iteration %d ; Norm %f\" %(iterations,np.linalg.norm(delP,ord='fro')))\n",
    "        \n",
    "        if iterations > 5000:\n",
    "            break\n",
    "    return warp\n",
    "    "
   ]
  },
  {
   "cell_type": "code",
   "execution_count": 9,
   "metadata": {
    "collapsed": true
   },
   "outputs": [],
   "source": [
    "def lukasKanadeTracker(img1,img2,initialwarp,epsilon, transform='AFFINE'):\n",
    "    img1 = cv2.cvtColor(img1,cv2.COLOR_BGR2GRAY)\n",
    "    img2 = cv2.cvtColor(img2,cv2.COLOR_BGR2GRAY)\n",
    "    return gaussNewton(img1,img2,initialwarp,epsilon,transform)"
   ]
  },
  {
   "cell_type": "markdown",
   "metadata": {},
   "source": [
    "## Example"
   ]
  },
  {
   "cell_type": "code",
   "execution_count": 10,
   "metadata": {
    "collapsed": true
   },
   "outputs": [],
   "source": [
    "# img1 = cv2.imread(\"./images/image1.jpg\")\n",
    "# img2 = cv2.imread(\"./images/image2.jpg\")"
   ]
  },
  {
   "cell_type": "code",
   "execution_count": null,
   "metadata": {
    "collapsed": true
   },
   "outputs": [],
   "source": [
    "img1 = cv2.imread(\"./images/room_left.jpg\")\n",
    "img2 = cv2.imread(\"./images/room_right.jpg\")"
   ]
  },
  {
   "cell_type": "code",
   "execution_count": null,
   "metadata": {
    "collapsed": true
   },
   "outputs": [],
   "source": [
    "# img = cv2.imread(\"./images/room_left.jpg\")\n",
    "# img1 = img[50:350,50:450]\n",
    "# img2 = img[55:355,55:455]"
   ]
  },
  {
   "cell_type": "code",
   "execution_count": null,
   "metadata": {
    "collapsed": true
   },
   "outputs": [],
   "source": [
    "show_images([(\"img1\",img1),(\"img2\",img2)])"
   ]
  },
  {
   "cell_type": "code",
   "execution_count": null,
   "metadata": {
    "collapsed": true
   },
   "outputs": [],
   "source": [
    "r = cv2.selectROI(\"Select window of interest\",img=img1,fromCenter=False,showCrossair=False)\n",
    "cv2.destroyAllWindows()\n",
    "tmpl = img1[int(r[1]):int(r[1]+r[3]), int(r[0]):int(r[0]+r[2])]\n",
    "initial_warp = np.float32([[1.0,0.0,-float(r[0])],[0.0,1.0,-float(r[1])]])\n",
    "\n",
    "final_warp = lukasKanadeTracker( img2, tmpl, initial_warp, 0.0010, transform='AFFINE')\n",
    "final_warp[0,2] -= initial_warp[0,2]\n",
    "final_warp[1,2] -= initial_warp[1,2]"
   ]
  },
  {
   "cell_type": "code",
   "execution_count": null,
   "metadata": {
    "collapsed": true
   },
   "outputs": [],
   "source": [
    "initial_warp = np.float32([[1.0,0.0,0],[0.0,1.0,0]])\n",
    "final_warp = lukasKanadeTracker( img2, img1, initial_warp, 0.0010, transform='AFFINE')"
   ]
  },
  {
   "cell_type": "code",
   "execution_count": null,
   "metadata": {
    "collapsed": true
   },
   "outputs": [],
   "source": [
    "warped_img = cv2.warpAffine(img2,final_warp,(img1.shape[1],img1.shape[0]))"
   ]
  },
  {
   "cell_type": "code",
   "execution_count": null,
   "metadata": {
    "collapsed": true
   },
   "outputs": [],
   "source": [
    "show_images([(\"img1\",img1),(\"img2\",img2),(\"warp\",warped_img)])"
   ]
  },
  {
   "cell_type": "code",
   "execution_count": null,
   "metadata": {
    "collapsed": true
   },
   "outputs": [],
   "source": [
    "warp2 = warped_img.copy()\n",
    "warp3 = warped_img.copy()"
   ]
  },
  {
   "cell_type": "code",
   "execution_count": null,
   "metadata": {
    "collapsed": true
   },
   "outputs": [],
   "source": [
    "warp2[warp2==0] = img1[warp2==0]\n",
    "warp3[warp3==0] = img2[warp3==0]"
   ]
  },
  {
   "cell_type": "code",
   "execution_count": null,
   "metadata": {
    "collapsed": true
   },
   "outputs": [],
   "source": [
    "cv2.selectROI(\"Select window of interest\",img=img1,fromCenter=False,showCrossair=False)"
   ]
  },
  {
   "cell_type": "code",
   "execution_count": null,
   "metadata": {
    "collapsed": true
   },
   "outputs": [],
   "source": [
    "sho"
   ]
  },
  {
   "cell_type": "code",
   "execution_count": null,
   "metadata": {
    "collapsed": true
   },
   "outputs": [],
   "source": [
    "cv2.destroyAllWindows()"
   ]
  },
  {
   "cell_type": "code",
   "execution_count": null,
   "metadata": {
    "collapsed": true
   },
   "outputs": [],
   "source": [
    "show_images([(\"wp1\",warp2),(\"wp2\",warp3)])"
   ]
  },
  {
   "cell_type": "markdown",
   "metadata": {
    "collapsed": true
   },
   "source": [
    "## Test video"
   ]
  },
  {
   "cell_type": "code",
   "execution_count": 18,
   "metadata": {
    "collapsed": true
   },
   "outputs": [],
   "source": [
    "video_file = \"./videos/shaky_book.mov\"\n",
    "result_path = \"./results/video/shaky_book/\"\n",
    "os.makedirs(result_path,exist_ok=True)\n",
    "os.makedirs(result_path+\"stable\",exist_ok=True)\n",
    "os.makedirs(result_path+\"unstable\",exist_ok=True)"
   ]
  },
  {
   "cell_type": "code",
   "execution_count": 19,
   "metadata": {
    "collapsed": true
   },
   "outputs": [],
   "source": [
    "cols,rows = (400,600)"
   ]
  },
  {
   "cell_type": "code",
   "execution_count": 25,
   "metadata": {
    "collapsed": true
   },
   "outputs": [],
   "source": [
    "cap = cv2.VideoCapture(video_file)\n",
    "ret,frame=  cap.read()\n",
    "resz_frame = cv2.resize(frame,(rows,cols))\n",
    "r = cv2.selectROI(\"Select window of interest\",img=resz_frame,fromCenter=False,showCrossair=False)\n",
    "cv2.destroyAllWindows()\n",
    "tmpl = resz_frame[int(r[1]):int(r[1]+r[3]), int(r[0]):int(r[0]+r[2])]\n",
    "initial_warp = np.float32([[1.0,0.0,-float(r[0])],[0.0,1.0,-float(r[1])]])\n",
    "warp = initial_warp.copy()"
   ]
  },
  {
   "cell_type": "code",
   "execution_count": 26,
   "metadata": {
    "collapsed": true
   },
   "outputs": [],
   "source": [
    "stable_frames = []\n",
    "unstable_frames = []"
   ]
  },
  {
   "cell_type": "code",
   "execution_count": 27,
   "metadata": {
    "collapsed": true
   },
   "outputs": [],
   "source": [
    "show_images([(\"tmpl\",tmpl)])"
   ]
  },
  {
   "cell_type": "code",
   "execution_count": 28,
   "metadata": {},
   "outputs": [
    {
     "name": "stdout",
     "output_type": "stream",
     "text": [
      "0\n",
      "Starting\n",
      "Done\n",
      "1\n",
      "Starting\n",
      "Done\n",
      "2\n",
      "Starting\n",
      "Done\n",
      "3\n",
      "Starting\n",
      "Done\n",
      "4\n",
      "Starting\n",
      "Done\n",
      "5\n",
      "Starting\n",
      "Done\n",
      "6\n",
      "Starting\n",
      "Done\n",
      "7\n",
      "Starting\n",
      "Done\n",
      "8\n",
      "Starting\n",
      "Done\n",
      "9\n",
      "Starting\n",
      "Done\n",
      "10\n",
      "Starting\n",
      "Done\n",
      "11\n",
      "Starting\n",
      "Done\n",
      "12\n",
      "Starting\n",
      "Done\n",
      "13\n",
      "Starting\n",
      "Done\n",
      "14\n",
      "Starting\n",
      "Done\n",
      "15\n",
      "Starting\n",
      "Done\n",
      "16\n",
      "Starting\n",
      "Done\n",
      "17\n",
      "Starting\n",
      "Done\n",
      "18\n",
      "Starting\n",
      "Done\n",
      "19\n",
      "Starting\n",
      "Done\n",
      "20\n",
      "Starting\n",
      "Done\n",
      "21\n",
      "Starting\n",
      "Done\n",
      "22\n",
      "Starting\n",
      "Done\n",
      "23\n",
      "Starting\n",
      "Done\n",
      "24\n",
      "Starting\n",
      "Done\n",
      "25\n",
      "Starting\n"
     ]
    },
    {
     "ename": "KeyboardInterrupt",
     "evalue": "",
     "output_type": "error",
     "traceback": [
      "\u001b[0;31m---------------------------------------------------------------------------\u001b[0m",
      "\u001b[0;31mKeyboardInterrupt\u001b[0m                         Traceback (most recent call last)",
      "\u001b[0;32m<ipython-input-28-4b5894737c8c>\u001b[0m in \u001b[0;36m<module>\u001b[0;34m()\u001b[0m\n\u001b[1;32m      8\u001b[0m     \u001b[0mprint\u001b[0m\u001b[0;34m(\u001b[0m\u001b[0mcnt\u001b[0m\u001b[0;34m)\u001b[0m\u001b[0;34m\u001b[0m\u001b[0m\n\u001b[1;32m      9\u001b[0m     \u001b[0mprint\u001b[0m\u001b[0;34m(\u001b[0m\u001b[0;34m\"Starting\"\u001b[0m\u001b[0;34m)\u001b[0m\u001b[0;34m\u001b[0m\u001b[0m\n\u001b[0;32m---> 10\u001b[0;31m     \u001b[0mwarp\u001b[0m \u001b[0;34m=\u001b[0m \u001b[0mlukasKanadeTracker\u001b[0m\u001b[0;34m(\u001b[0m \u001b[0mresz_frame\u001b[0m\u001b[0;34m,\u001b[0m \u001b[0mtmpl\u001b[0m\u001b[0;34m,\u001b[0m \u001b[0mwarp\u001b[0m\u001b[0;34m,\u001b[0m \u001b[0;36m0.0010\u001b[0m\u001b[0;34m,\u001b[0m \u001b[0mtransform\u001b[0m\u001b[0;34m=\u001b[0m\u001b[0;34m'AFFINE'\u001b[0m\u001b[0;34m)\u001b[0m\u001b[0;34m\u001b[0m\u001b[0m\n\u001b[0m\u001b[1;32m     11\u001b[0m     \u001b[0mframe_warp\u001b[0m \u001b[0;34m=\u001b[0m \u001b[0mwarp\u001b[0m\u001b[0;34m.\u001b[0m\u001b[0mcopy\u001b[0m\u001b[0;34m(\u001b[0m\u001b[0;34m)\u001b[0m\u001b[0;34m\u001b[0m\u001b[0m\n\u001b[1;32m     12\u001b[0m     \u001b[0mframe_warp\u001b[0m\u001b[0;34m[\u001b[0m\u001b[0;36m0\u001b[0m\u001b[0;34m,\u001b[0m\u001b[0;36m2\u001b[0m\u001b[0;34m]\u001b[0m \u001b[0;34m-=\u001b[0m \u001b[0minitial_warp\u001b[0m\u001b[0;34m[\u001b[0m\u001b[0;36m0\u001b[0m\u001b[0;34m,\u001b[0m\u001b[0;36m2\u001b[0m\u001b[0;34m]\u001b[0m\u001b[0;34m\u001b[0m\u001b[0m\n",
      "\u001b[0;32m<ipython-input-9-abe6e7f753ce>\u001b[0m in \u001b[0;36mlukasKanadeTracker\u001b[0;34m(img1, img2, initialwarp, epsilon, transform)\u001b[0m\n\u001b[1;32m      2\u001b[0m     \u001b[0mimg1\u001b[0m \u001b[0;34m=\u001b[0m \u001b[0mcv2\u001b[0m\u001b[0;34m.\u001b[0m\u001b[0mcvtColor\u001b[0m\u001b[0;34m(\u001b[0m\u001b[0mimg1\u001b[0m\u001b[0;34m,\u001b[0m\u001b[0mcv2\u001b[0m\u001b[0;34m.\u001b[0m\u001b[0mCOLOR_BGR2GRAY\u001b[0m\u001b[0;34m)\u001b[0m\u001b[0;34m\u001b[0m\u001b[0m\n\u001b[1;32m      3\u001b[0m     \u001b[0mimg2\u001b[0m \u001b[0;34m=\u001b[0m \u001b[0mcv2\u001b[0m\u001b[0;34m.\u001b[0m\u001b[0mcvtColor\u001b[0m\u001b[0;34m(\u001b[0m\u001b[0mimg2\u001b[0m\u001b[0;34m,\u001b[0m\u001b[0mcv2\u001b[0m\u001b[0;34m.\u001b[0m\u001b[0mCOLOR_BGR2GRAY\u001b[0m\u001b[0;34m)\u001b[0m\u001b[0;34m\u001b[0m\u001b[0m\n\u001b[0;32m----> 4\u001b[0;31m     \u001b[0;32mreturn\u001b[0m \u001b[0mgaussNewton\u001b[0m\u001b[0;34m(\u001b[0m\u001b[0mimg1\u001b[0m\u001b[0;34m,\u001b[0m\u001b[0mimg2\u001b[0m\u001b[0;34m,\u001b[0m\u001b[0minitialwarp\u001b[0m\u001b[0;34m,\u001b[0m\u001b[0mepsilon\u001b[0m\u001b[0;34m,\u001b[0m\u001b[0mtransform\u001b[0m\u001b[0;34m)\u001b[0m\u001b[0;34m\u001b[0m\u001b[0m\n\u001b[0m",
      "\u001b[0;32m<ipython-input-8-58d0256ca7ef>\u001b[0m in \u001b[0;36mgaussNewton\u001b[0;34m(img, template, warp, epsilon, transform)\u001b[0m\n\u001b[1;32m     30\u001b[0m         \u001b[0;32mfor\u001b[0m \u001b[0mj\u001b[0m \u001b[0;32min\u001b[0m \u001b[0mrange\u001b[0m\u001b[0;34m(\u001b[0m\u001b[0mtmply\u001b[0m\u001b[0;34m)\u001b[0m\u001b[0;34m:\u001b[0m\u001b[0;34m\u001b[0m\u001b[0m\n\u001b[1;32m     31\u001b[0m             \u001b[0;31m# because i,j in numpy image correspond to j,i in image axis\u001b[0m\u001b[0;34m\u001b[0m\u001b[0;34m\u001b[0m\u001b[0m\n\u001b[0;32m---> 32\u001b[0;31m             \u001b[0mjacob_tmpl\u001b[0m\u001b[0;34m[\u001b[0m\u001b[0mi\u001b[0m\u001b[0;34m,\u001b[0m\u001b[0mj\u001b[0m\u001b[0;34m]\u001b[0m \u001b[0;34m=\u001b[0m \u001b[0mjacob_warp_affine\u001b[0m\u001b[0;34m(\u001b[0m\u001b[0mj\u001b[0m\u001b[0;34m,\u001b[0m\u001b[0mi\u001b[0m\u001b[0;34m)\u001b[0m\u001b[0;34m\u001b[0m\u001b[0m\n\u001b[0m\u001b[1;32m     33\u001b[0m \u001b[0;34m\u001b[0m\u001b[0m\n\u001b[1;32m     34\u001b[0m     \u001b[0;31m## Calculating steepest descent (5)\u001b[0m\u001b[0;34m\u001b[0m\u001b[0;34m\u001b[0m\u001b[0m\n",
      "\u001b[0;32m<ipython-input-3-52e6114527f0>\u001b[0m in \u001b[0;36mjacob_warp_affine\u001b[0;34m(x, y)\u001b[0m\n\u001b[1;32m      1\u001b[0m \u001b[0;32mdef\u001b[0m \u001b[0mjacob_warp_affine\u001b[0m\u001b[0;34m(\u001b[0m\u001b[0mx\u001b[0m\u001b[0;34m,\u001b[0m\u001b[0my\u001b[0m\u001b[0;34m)\u001b[0m\u001b[0;34m:\u001b[0m\u001b[0;34m\u001b[0m\u001b[0m\n\u001b[0;32m----> 2\u001b[0;31m     \u001b[0;32mreturn\u001b[0m \u001b[0mnp\u001b[0m\u001b[0;34m.\u001b[0m\u001b[0marray\u001b[0m\u001b[0;34m(\u001b[0m\u001b[0;34m[\u001b[0m\u001b[0;34m[\u001b[0m\u001b[0mx\u001b[0m\u001b[0;34m,\u001b[0m\u001b[0;36m0\u001b[0m\u001b[0;34m,\u001b[0m\u001b[0my\u001b[0m\u001b[0;34m,\u001b[0m\u001b[0;36m0\u001b[0m\u001b[0;34m,\u001b[0m\u001b[0;36m1\u001b[0m\u001b[0;34m,\u001b[0m\u001b[0;36m0\u001b[0m\u001b[0;34m]\u001b[0m\u001b[0;34m,\u001b[0m\u001b[0;34m[\u001b[0m\u001b[0;36m0\u001b[0m\u001b[0;34m,\u001b[0m\u001b[0mx\u001b[0m\u001b[0;34m,\u001b[0m\u001b[0;36m0\u001b[0m\u001b[0;34m,\u001b[0m\u001b[0my\u001b[0m\u001b[0;34m,\u001b[0m\u001b[0;36m0\u001b[0m\u001b[0;34m,\u001b[0m\u001b[0;36m1\u001b[0m\u001b[0;34m]\u001b[0m\u001b[0;34m]\u001b[0m\u001b[0;34m,\u001b[0m\u001b[0mdtype\u001b[0m\u001b[0;34m=\u001b[0m\u001b[0mnp\u001b[0m\u001b[0;34m.\u001b[0m\u001b[0mfloat32\u001b[0m\u001b[0;34m)\u001b[0m \u001b[0;31m##(2,3)\u001b[0m\u001b[0;34m\u001b[0m\u001b[0m\n\u001b[0m",
      "\u001b[0;31mKeyboardInterrupt\u001b[0m: "
     ]
    }
   ],
   "source": [
    "cnt = 0\n",
    "while True:\n",
    "    ret,frame=  cap.read()\n",
    "    if not ret:\n",
    "        break\n",
    "    resz_frame = cv2.resize(frame,(rows,cols))\n",
    "    unstable_frames.append(resz_frame)\n",
    "    print(cnt)\n",
    "    print(\"Starting\")\n",
    "    warp = lukasKanadeTracker( resz_frame, tmpl, warp, 0.0010, transform='AFFINE')\n",
    "    frame_warp = warp.copy()\n",
    "    frame_warp[0,2] -= initial_warp[0,2]\n",
    "    frame_warp[1,2] -= initial_warp[1,2]\n",
    "    warped_img = cv2.warpAffine(resz_frame,frame_warp,(rows,cols))\n",
    "    stable_frames.append(warped_img)\n",
    "    print(\"Done\")\n",
    "    cnt+=1\n",
    "#     if cnt>5000:\n",
    "#         break\n",
    "#     cv2.imshow(\"video\",resz_frame)\n",
    "    if cv2.waitKey(1) & 0xFF == ord('q'):\n",
    "        break\n",
    "cv2.destroyAllWindows()"
   ]
  },
  {
   "cell_type": "code",
   "execution_count": null,
   "metadata": {
    "collapsed": true
   },
   "outputs": [],
   "source": [
    "for i in range(len(stable_frames)):\n",
    "    cv2.imshow(\"stable\",stable_frames[i])\n",
    "    path = result_path+\"stable/\"+('{:04}'.format(i))+\".jpg\"\n",
    "    print(path)\n",
    "    cv2.imwrite(path,stable_frames[i])\n",
    "    cv2.imshow(\"unstable\",unstable_frames[i])\n",
    "    cv2.imwrite(result_path+\"unstable/\"+('{:04}'.format(i))+\".jpg\",unstable_frames[i])\n",
    "    if cv2.waitKey(10) & 0xFF == ord('q'):\n",
    "        break\n",
    "cv2.destroyAllWindows()"
   ]
  },
  {
   "cell_type": "code",
   "execution_count": null,
   "metadata": {
    "collapsed": true
   },
   "outputs": [],
   "source": [
    "img = unstable_frames[144]"
   ]
  },
  {
   "cell_type": "code",
   "execution_count": null,
   "metadata": {
    "collapsed": true
   },
   "outputs": [],
   "source": []
  },
  {
   "cell_type": "code",
   "execution_count": null,
   "metadata": {
    "collapsed": true
   },
   "outputs": [],
   "source": [
    "show_images([(\"im1\",tmpl),(\"im3\",unstable_frames[144])])"
   ]
  },
  {
   "cell_type": "code",
   "execution_count": null,
   "metadata": {
    "collapsed": true
   },
   "outputs": [],
   "source": [
    "warped_img = cv2.warpAffine(img,warp,(tmpl.shape[1],tmpl.shape[0]))"
   ]
  },
  {
   "cell_type": "code",
   "execution_count": null,
   "metadata": {
    "collapsed": true
   },
   "outputs": [],
   "source": [
    "show_images([(\"im1\",tmpl),(\"im3\",img)])"
   ]
  },
  {
   "cell_type": "code",
   "execution_count": null,
   "metadata": {
    "collapsed": true
   },
   "outputs": [],
   "source": [
    "warp = lukasKanadeTracker( img, tmpl, initial_warp, 0.0010, transform='AFFINE')"
   ]
  },
  {
   "cell_type": "code",
   "execution_count": null,
   "metadata": {
    "collapsed": true
   },
   "outputs": [],
   "source": [
    "warp"
   ]
  },
  {
   "cell_type": "code",
   "execution_count": 1,
   "metadata": {
    "collapsed": true
   },
   "outputs": [],
   "source": [
    "import numpy as np"
   ]
  },
  {
   "cell_type": "code",
   "execution_count": 6,
   "metadata": {
    "collapsed": true
   },
   "outputs": [],
   "source": [
    "x = np.zeros([400,600,3])\n",
    "y = np.zeros([400,600,3])\n",
    "divider = np.zeros([x.shape[0],20,x.shape[2]],dtype=x.dtype)"
   ]
  },
  {
   "cell_type": "code",
   "execution_count": 7,
   "metadata": {},
   "outputs": [
    {
     "data": {
      "text/plain": [
       "(400, 600, 3)"
      ]
     },
     "execution_count": 7,
     "metadata": {},
     "output_type": "execute_result"
    }
   ],
   "source": [
    "x.shape"
   ]
  },
  {
   "cell_type": "code",
   "execution_count": 8,
   "metadata": {},
   "outputs": [
    {
     "data": {
      "text/plain": [
       "(400, 20, 3)"
      ]
     },
     "execution_count": 8,
     "metadata": {},
     "output_type": "execute_result"
    }
   ],
   "source": [
    "divider.shape"
   ]
  },
  {
   "cell_type": "code",
   "execution_count": 11,
   "metadata": {
    "collapsed": true
   },
   "outputs": [],
   "source": [
    "ans = np.concatenate((x,divider,y),axis=1)"
   ]
  },
  {
   "cell_type": "code",
   "execution_count": 12,
   "metadata": {},
   "outputs": [
    {
     "data": {
      "text/plain": [
       "(400, 1220, 3)"
      ]
     },
     "execution_count": 12,
     "metadata": {},
     "output_type": "execute_result"
    }
   ],
   "source": [
    "ans.shape"
   ]
  },
  {
   "cell_type": "code",
   "execution_count": 13,
   "metadata": {
    "collapsed": true
   },
   "outputs": [],
   "source": [
    "import os"
   ]
  },
  {
   "cell_type": "code",
   "execution_count": 17,
   "metadata": {},
   "outputs": [
    {
     "data": {
      "text/plain": [
       "('./repotr', 'hah.mp4')"
      ]
     },
     "execution_count": 17,
     "metadata": {},
     "output_type": "execute_result"
    }
   ],
   "source": [
    "os.path.split(\"./repotr/hah.mp4\")[0]"
   ]
  },
  {
   "cell_type": "code",
   "execution_count": null,
   "metadata": {
    "collapsed": true
   },
   "outputs": [],
   "source": []
  }
 ],
 "metadata": {
  "kernelspec": {
   "display_name": "Python 3",
   "language": "python",
   "name": "python3"
  },
  "language_info": {
   "codemirror_mode": {
    "name": "ipython",
    "version": 3
   },
   "file_extension": ".py",
   "mimetype": "text/x-python",
   "name": "python",
   "nbconvert_exporter": "python",
   "pygments_lexer": "ipython3",
   "version": "3.4.3"
  }
 },
 "nbformat": 4,
 "nbformat_minor": 2
}
